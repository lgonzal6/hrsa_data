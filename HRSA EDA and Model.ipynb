{
 "cells": [
  {
   "cell_type": "code",
   "execution_count": 1,
   "id": "910abe89-52f5-4faa-9bc8-5b26f1f58aa5",
   "metadata": {
    "tags": []
   },
   "outputs": [],
   "source": [
    "import pandas as pd\n",
    "import numpy as np\n",
    "import matplotlib.pyplot as plt\n",
    "import seaborn as sns"
   ]
  },
  {
   "cell_type": "code",
   "execution_count": 2,
   "id": "35a0ab14-3c88-4ed7-8ad7-de72aa765bdc",
   "metadata": {},
   "outputs": [],
   "source": [
    "pd.set_option('display.max_columns', None)"
   ]
  },
  {
   "cell_type": "code",
   "execution_count": 3,
   "id": "ee8c27b2-2dad-4891-bc96-75d26ec06643",
   "metadata": {
    "tags": []
   },
   "outputs": [],
   "source": [
    "df = pd.read_csv('./Data/overall_all_070622a.csv', engine='python')\n"
   ]
  },
  {
   "cell_type": "code",
   "execution_count": 4,
   "id": "1c057534-c7b9-486b-aed6-90318375fcc4",
   "metadata": {},
   "outputs": [],
   "source": [
    "variables = pd.read_csv('./Data/variables.csv')"
   ]
  },
  {
   "cell_type": "code",
   "execution_count": 5,
   "id": "419de7b1-ba22-45a4-ae9d-bf3c3ecf9302",
   "metadata": {},
   "outputs": [
    {
     "data": {
      "text/html": [
       "<div>\n",
       "<style scoped>\n",
       "    .dataframe tbody tr th:only-of-type {\n",
       "        vertical-align: middle;\n",
       "    }\n",
       "\n",
       "    .dataframe tbody tr th {\n",
       "        vertical-align: top;\n",
       "    }\n",
       "\n",
       "    .dataframe thead th {\n",
       "        text-align: right;\n",
       "    }\n",
       "</style>\n",
       "<table border=\"1\" class=\"dataframe\">\n",
       "  <thead>\n",
       "    <tr style=\"text-align: right;\">\n",
       "      <th></th>\n",
       "      <th>Timestamp</th>\n",
       "      <th>date</th>\n",
       "      <th>unique_id</th>\n",
       "      <th>Rise Partners</th>\n",
       "      <th>Rise Affiliate</th>\n",
       "      <th>zip</th>\n",
       "      <th>gender</th>\n",
       "      <th>sexuality</th>\n",
       "      <th>race</th>\n",
       "      <th>latino</th>\n",
       "      <th>other_languages</th>\n",
       "      <th>marital</th>\n",
       "      <th>age</th>\n",
       "      <th>current_wellbeing</th>\n",
       "      <th>wellbeing_five</th>\n",
       "      <th>wellbeing_two</th>\n",
       "      <th>overall_wellbeing</th>\n",
       "      <th>financial</th>\n",
       "      <th>direction_and_purpose</th>\n",
       "      <th>positive_emotions</th>\n",
       "      <th>negative_emotions</th>\n",
       "      <th>unfairly_treated</th>\n",
       "      <th>covid_vaccine</th>\n",
       "      <th>primary_care_or_other_health_care</th>\n",
       "      <th>there_is_nothing_i_need_help_with</th>\n",
       "      <th>flu_vaccine</th>\n",
       "      <th>food</th>\n",
       "      <th>other_vaccines</th>\n",
       "      <th>housing</th>\n",
       "      <th>rent</th>\n",
       "      <th>utilities</th>\n",
       "      <th>finances</th>\n",
       "      <th>transportation</th>\n",
       "      <th>loneliness</th>\n",
       "      <th>personal_safety</th>\n",
       "      <th>employment</th>\n",
       "      <th>childcare</th>\n",
       "      <th>alcohol_or_drug_use</th>\n",
       "      <th>first_time</th>\n",
       "      <th>hesitancy_reasons</th>\n",
       "      <th>vaccine_commitment</th>\n",
       "      <th>vaccine_status</th>\n",
       "      <th>difference_makers</th>\n",
       "      <th>previous_experience</th>\n",
       "      <th>hours</th>\n",
       "      <th>regular_activities</th>\n",
       "      <th>transportation_help_activities</th>\n",
       "      <th>follow_up_activities</th>\n",
       "      <th>form</th>\n",
       "      <th>vaccine_type</th>\n",
       "    </tr>\n",
       "  </thead>\n",
       "  <tbody>\n",
       "    <tr>\n",
       "      <th>0</th>\n",
       "      <td>2021-08-04T14:00:11Z</td>\n",
       "      <td>8/4/2021</td>\n",
       "      <td>NaN</td>\n",
       "      <td>Center for Popular Democracy</td>\n",
       "      <td>NaN</td>\n",
       "      <td>NaN</td>\n",
       "      <td>NaN</td>\n",
       "      <td>NaN</td>\n",
       "      <td>NaN</td>\n",
       "      <td>NaN</td>\n",
       "      <td>English</td>\n",
       "      <td>NaN</td>\n",
       "      <td>NaN</td>\n",
       "      <td>NaN</td>\n",
       "      <td>NaN</td>\n",
       "      <td>NaN</td>\n",
       "      <td>NaN</td>\n",
       "      <td>NaN</td>\n",
       "      <td>NaN</td>\n",
       "      <td>NaN</td>\n",
       "      <td>NaN</td>\n",
       "      <td>NaN</td>\n",
       "      <td>NaN</td>\n",
       "      <td>NaN</td>\n",
       "      <td>NaN</td>\n",
       "      <td>NaN</td>\n",
       "      <td>NaN</td>\n",
       "      <td>NaN</td>\n",
       "      <td>NaN</td>\n",
       "      <td>NaN</td>\n",
       "      <td>NaN</td>\n",
       "      <td>NaN</td>\n",
       "      <td>NaN</td>\n",
       "      <td>NaN</td>\n",
       "      <td>NaN</td>\n",
       "      <td>NaN</td>\n",
       "      <td>NaN</td>\n",
       "      <td>NaN</td>\n",
       "      <td>NaN</td>\n",
       "      <td>NaN</td>\n",
       "      <td>NaN</td>\n",
       "      <td>NaN</td>\n",
       "      <td>NaN</td>\n",
       "      <td>NaN</td>\n",
       "      <td>NaN</td>\n",
       "      <td>NaN</td>\n",
       "      <td>NaN</td>\n",
       "      <td>NaN</td>\n",
       "      <td>Brief Outreach Form</td>\n",
       "      <td>NaN</td>\n",
       "    </tr>\n",
       "    <tr>\n",
       "      <th>1</th>\n",
       "      <td>2021-08-05T22:55:41Z</td>\n",
       "      <td>8/5/2021</td>\n",
       "      <td>NaN</td>\n",
       "      <td>Migrant Clinician's Network</td>\n",
       "      <td>NaN</td>\n",
       "      <td>78756</td>\n",
       "      <td>Female</td>\n",
       "      <td>NaN</td>\n",
       "      <td>NaN</td>\n",
       "      <td>NaN</td>\n",
       "      <td>English</td>\n",
       "      <td>NaN</td>\n",
       "      <td>64</td>\n",
       "      <td>5.0</td>\n",
       "      <td>9.0</td>\n",
       "      <td>NaN</td>\n",
       "      <td>Struggling</td>\n",
       "      <td>NaN</td>\n",
       "      <td>NaN</td>\n",
       "      <td>NaN</td>\n",
       "      <td>NaN</td>\n",
       "      <td>NaN</td>\n",
       "      <td>covid vaccine</td>\n",
       "      <td>NaN</td>\n",
       "      <td>there is nothing i need help with</td>\n",
       "      <td>flu vaccine</td>\n",
       "      <td>food</td>\n",
       "      <td>other vaccines</td>\n",
       "      <td>housing</td>\n",
       "      <td>rent</td>\n",
       "      <td>utilities</td>\n",
       "      <td>general finances</td>\n",
       "      <td>transportation</td>\n",
       "      <td>loneliness</td>\n",
       "      <td>personal safety</td>\n",
       "      <td>employment</td>\n",
       "      <td>childcare</td>\n",
       "      <td>NaN</td>\n",
       "      <td>NaN</td>\n",
       "      <td>NaN</td>\n",
       "      <td>NaN</td>\n",
       "      <td>NaN</td>\n",
       "      <td>NaN</td>\n",
       "      <td>NaN</td>\n",
       "      <td>NaN</td>\n",
       "      <td>NaN</td>\n",
       "      <td>NaN</td>\n",
       "      <td>NaN</td>\n",
       "      <td>Brief Outreach Form</td>\n",
       "      <td>NaN</td>\n",
       "    </tr>\n",
       "  </tbody>\n",
       "</table>\n",
       "</div>"
      ],
      "text/plain": [
       "              Timestamp      date unique_id                 Rise Partners  \\\n",
       "0  2021-08-04T14:00:11Z  8/4/2021       NaN  Center for Popular Democracy   \n",
       "1  2021-08-05T22:55:41Z  8/5/2021       NaN   Migrant Clinician's Network   \n",
       "\n",
       "  Rise Affiliate    zip  gender sexuality race latino other_languages marital  \\\n",
       "0            NaN    NaN     NaN       NaN  NaN    NaN         English     NaN   \n",
       "1            NaN  78756  Female       NaN  NaN    NaN         English     NaN   \n",
       "\n",
       "   age  current_wellbeing  wellbeing_five  wellbeing_two overall_wellbeing  \\\n",
       "0  NaN                NaN             NaN            NaN               NaN   \n",
       "1   64                5.0             9.0            NaN        Struggling   \n",
       "\n",
       "  financial  direction_and_purpose  positive_emotions  negative_emotions  \\\n",
       "0       NaN                    NaN                NaN                NaN   \n",
       "1       NaN                    NaN                NaN                NaN   \n",
       "\n",
       "  unfairly_treated  covid_vaccine primary_care_or_other_health_care  \\\n",
       "0              NaN            NaN                               NaN   \n",
       "1              NaN  covid vaccine                               NaN   \n",
       "\n",
       "   there_is_nothing_i_need_help_with  flu_vaccine  food  other_vaccines  \\\n",
       "0                                NaN          NaN   NaN             NaN   \n",
       "1  there is nothing i need help with  flu vaccine  food  other vaccines   \n",
       "\n",
       "   housing  rent  utilities          finances  transportation  loneliness  \\\n",
       "0      NaN   NaN        NaN               NaN             NaN         NaN   \n",
       "1  housing  rent  utilities  general finances  transportation  loneliness   \n",
       "\n",
       "   personal_safety  employment  childcare  alcohol_or_drug_use first_time  \\\n",
       "0              NaN         NaN        NaN                  NaN        NaN   \n",
       "1  personal safety  employment  childcare                  NaN        NaN   \n",
       "\n",
       "  hesitancy_reasons vaccine_commitment vaccine_status difference_makers  \\\n",
       "0               NaN                NaN            NaN               NaN   \n",
       "1               NaN                NaN            NaN               NaN   \n",
       "\n",
       "  previous_experience  hours regular_activities  \\\n",
       "0                 NaN    NaN                NaN   \n",
       "1                 NaN    NaN                NaN   \n",
       "\n",
       "  transportation_help_activities follow_up_activities                 form  \\\n",
       "0                            NaN                  NaN  Brief Outreach Form   \n",
       "1                            NaN                  NaN  Brief Outreach Form   \n",
       "\n",
       "  vaccine_type  \n",
       "0          NaN  \n",
       "1          NaN  "
      ]
     },
     "execution_count": 5,
     "metadata": {},
     "output_type": "execute_result"
    }
   ],
   "source": [
    "df.head(2)"
   ]
  },
  {
   "cell_type": "code",
   "execution_count": null,
   "id": "b325ca27-b5a0-4e38-b921-762c29186398",
   "metadata": {
    "tags": []
   },
   "outputs": [],
   "source": [
    "df.info()"
   ]
  },
  {
   "cell_type": "markdown",
   "id": "e8ea0821-3cee-4bb8-8754-699d3c1eb17e",
   "metadata": {},
   "source": [
    "We have a great deal of null values"
   ]
  },
  {
   "cell_type": "code",
   "execution_count": null,
   "id": "82c24f5a-bc54-474d-9b9e-3961a5135495",
   "metadata": {
    "tags": []
   },
   "outputs": [],
   "source": [
    "df.isnull().sum()"
   ]
  },
  {
   "cell_type": "markdown",
   "id": "8e5bbbdc-9930-472e-8ac6-620cc31bb8c8",
   "metadata": {
    "tags": []
   },
   "source": [
    "### Let's make the date a datetime object"
   ]
  },
  {
   "cell_type": "code",
   "execution_count": 8,
   "id": "d122f947-0da1-4159-bc2e-0f0dc60c7776",
   "metadata": {},
   "outputs": [],
   "source": [
    "# We do not need timestamp and date, and we do not need unique_id\n",
    "\n",
    "df.drop(columns=['Timestamp', 'unique_id',], inplace=True)"
   ]
  },
  {
   "cell_type": "code",
   "execution_count": 9,
   "id": "34036f0f-7f77-4a6d-a3e6-4f72e7e54de6",
   "metadata": {},
   "outputs": [],
   "source": [
    "df['date'] = pd.to_datetime(df['date']).dt.date"
   ]
  },
  {
   "cell_type": "code",
   "execution_count": 10,
   "id": "4db8e019-d7f4-4a06-b7f3-ece6fc5d7b07",
   "metadata": {},
   "outputs": [
    {
     "data": {
      "text/plain": [
       "0    2021-08-04\n",
       "1    2021-08-05\n",
       "2    2021-08-06\n",
       "3    2021-08-09\n",
       "4    2021-08-12\n",
       "Name: date, dtype: object"
      ]
     },
     "execution_count": 10,
     "metadata": {},
     "output_type": "execute_result"
    }
   ],
   "source": [
    "df['date'].head()"
   ]
  },
  {
   "cell_type": "code",
   "execution_count": 11,
   "id": "3b51d3d8-da72-4eb8-9020-d3befb9df82a",
   "metadata": {},
   "outputs": [
    {
     "data": {
      "text/plain": [
       "datetime.date(2022, 4, 25)"
      ]
     },
     "execution_count": 11,
     "metadata": {},
     "output_type": "execute_result"
    }
   ],
   "source": [
    "df['date'].max()"
   ]
  },
  {
   "cell_type": "code",
   "execution_count": 12,
   "id": "d79d8300-a147-4cdb-a66a-6472e34a788c",
   "metadata": {},
   "outputs": [
    {
     "data": {
      "text/plain": [
       "datetime.date(2021, 8, 4)"
      ]
     },
     "execution_count": 12,
     "metadata": {},
     "output_type": "execute_result"
    }
   ],
   "source": [
    "df['date'].min()"
   ]
  },
  {
   "cell_type": "markdown",
   "id": "a814590b-b953-49d9-8e46-05ee787c338e",
   "metadata": {},
   "source": [
    "We can see that the earliest documented date on this dataset is august 4th 2021, and the most recent date is April 25 2022"
   ]
  },
  {
   "cell_type": "markdown",
   "id": "742c0631-7bd3-4e88-832f-9c8128443b9e",
   "metadata": {},
   "source": [
    "#### Make a year column to compare years"
   ]
  },
  {
   "cell_type": "code",
   "execution_count": 13,
   "id": "3ce68746-8c87-4a4a-9aa6-d4e1d078ffd0",
   "metadata": {},
   "outputs": [],
   "source": [
    "df['year'] = pd.to_datetime(df['date']).dt.year"
   ]
  },
  {
   "cell_type": "code",
   "execution_count": 14,
   "id": "a102fc09-5e0b-4ea9-8578-cd243c71eb73",
   "metadata": {},
   "outputs": [
    {
     "data": {
      "text/plain": [
       "0    2021\n",
       "1    2021\n",
       "2    2021\n",
       "3    2021\n",
       "4    2021\n",
       "Name: year, dtype: int64"
      ]
     },
     "execution_count": 14,
     "metadata": {},
     "output_type": "execute_result"
    }
   ],
   "source": [
    "df['year'].head()"
   ]
  },
  {
   "cell_type": "markdown",
   "id": "7978c769-6f50-416c-a366-b59c067fa7f6",
   "metadata": {
    "tags": []
   },
   "source": [
    "### Attempt to clean columns related to race/ethnicity"
   ]
  },
  {
   "cell_type": "markdown",
   "id": "3b4c8968-3db8-4ca2-9f74-1ccb247d7517",
   "metadata": {},
   "source": [
    "If I had more time, I would like to create a column as is_poc to track individuals who identified as a person of color or from a ethnic minority. Given the time contraits, I did very simple clearning in the latino and race columns."
   ]
  },
  {
   "cell_type": "code",
   "execution_count": 15,
   "id": "5688d318-687d-4102-bb42-fe0c555b10b1",
   "metadata": {},
   "outputs": [],
   "source": [
    "# make all entris in 'latino' lower, this way we do not have a difference between 'Yes' and 'yes'\n",
    "\n",
    "df['latino'] = df['latino'].str.lower()"
   ]
  },
  {
   "cell_type": "code",
   "execution_count": 16,
   "id": "68cfb1e3-5981-4413-88d6-ba53cedb8a63",
   "metadata": {},
   "outputs": [
    {
     "data": {
      "text/plain": [
       "array([nan, 'no', 'yes', 'i prefer not to answer'], dtype=object)"
      ]
     },
     "execution_count": 16,
     "metadata": {},
     "output_type": "execute_result"
    }
   ],
   "source": [
    "df['latino'].unique()"
   ]
  },
  {
   "cell_type": "code",
   "execution_count": 17,
   "id": "0b3f44b8-c9ec-413a-89a5-683af1d0660b",
   "metadata": {},
   "outputs": [],
   "source": [
    "df['race'] = df['race'].str.lower()"
   ]
  },
  {
   "cell_type": "markdown",
   "id": "9dffbb24-b941-4dbc-83f3-546921ef3efd",
   "metadata": {},
   "source": [
    "### Let's look at the needs that have been identified"
   ]
  },
  {
   "cell_type": "code",
   "execution_count": 18,
   "id": "1657e609-38b2-4b6d-abe4-cc83a87cb005",
   "metadata": {},
   "outputs": [],
   "source": [
    "# Identify needs columns"
   ]
  },
  {
   "cell_type": "code",
   "execution_count": 19,
   "id": "d06208cb-9882-480f-9183-7fe6a249d233",
   "metadata": {},
   "outputs": [],
   "source": [
    "variables = variables.Column.tolist()"
   ]
  },
  {
   "cell_type": "code",
   "execution_count": 20,
   "id": "650a2e16-add0-4017-bfcb-6906dbcfb28c",
   "metadata": {},
   "outputs": [
    {
     "name": "stdout",
     "output_type": "stream",
     "text": [
      "['Timestamp', 'date', 'unique_id', 'Rise Partners', 'Rise Affiliate', 'zip', 'gender', 'sexuality', 'race', 'latino', 'other_languages', 'marital', 'age', 'current_wellbeing', 'wellbeing_five', 'wellbeing_two', 'overall_wellbeing', 'financial', 'direction_and_purpose', 'positive_emotions', 'negative_emotions', 'unfairly_treated', 'covid_vaccine', 'primary_care_or_other_health_care', 'there_is_nothing_i_need_help_with', 'flu_vaccine', 'food', 'other_vaccines', 'housing', 'rent', 'utilities', 'finances', 'transportation', 'loneliness', 'personal_safety', 'employment', 'childcare', 'alcohol_or_drug_use', 'first_time', 'hesitancy_reasons', 'vaccine_commitment', 'vaccine_status', 'difference_makers', 'previous_experience', 'hours', 'regular_activities', 'transportation_help_activities', 'follow_up_activities', 'form', 'vaccine_type']\n"
     ]
    }
   ],
   "source": [
    "print(variables)"
   ]
  },
  {
   "cell_type": "code",
   "execution_count": 21,
   "id": "86f6f867-cee5-4111-84a9-ab4d7e73ba7c",
   "metadata": {},
   "outputs": [
    {
     "data": {
      "text/plain": [
       "array([nan, 'general finances'], dtype=object)"
      ]
     },
     "execution_count": 21,
     "metadata": {},
     "output_type": "execute_result"
    }
   ],
   "source": [
    "df['finances'].unique()"
   ]
  },
  {
   "cell_type": "code",
   "execution_count": 22,
   "id": "26e838c6-9b51-4eca-9375-20bb639e4baa",
   "metadata": {},
   "outputs": [],
   "source": [
    "# Let's look at needs and how they relate to each other \n",
    "\n",
    "needs = ['food', 'other_vaccines', 'housing', 'rent', 'utilities', 'finances', 'transportation', 'loneliness', 'personal_safety', 'childcare', 'employment', 'alcohol_or_drug_use']"
   ]
  },
  {
   "cell_type": "code",
   "execution_count": 23,
   "id": "c23a2b93-74b0-437a-923a-8953f439cf15",
   "metadata": {},
   "outputs": [
    {
     "name": "stdout",
     "output_type": "stream",
     "text": [
      "food [nan 'food']\n",
      "other_vaccines [nan 'other vaccines']\n",
      "housing [nan 'housing']\n",
      "rent [nan 'rent']\n",
      "utilities [nan 'utilities']\n",
      "finances [nan 'general finances']\n",
      "transportation [nan 'transportation']\n",
      "loneliness [nan 'loneliness']\n",
      "personal_safety [nan 'personal safety']\n",
      "childcare [nan 'childcare']\n",
      "employment [nan 'employment']\n",
      "alcohol_or_drug_use [nan]\n"
     ]
    }
   ],
   "source": [
    "for need in needs:\n",
    "    print(need, df[need].unique())"
   ]
  },
  {
   "cell_type": "markdown",
   "id": "b54a8a13-13cc-461f-a7a6-69a2392768c6",
   "metadata": {},
   "source": [
    "For the needs field, a need was either identified or not, therefore we can made this data either a 1 or 0 since nan means that the need was not identified and 1 means this particular need was identified."
   ]
  },
  {
   "cell_type": "code",
   "execution_count": 24,
   "id": "91e21cd5-207f-42dd-b18e-82abf683b937",
   "metadata": {},
   "outputs": [
    {
     "data": {
      "text/plain": [
       "['food',\n",
       " 'other_vaccines',\n",
       " 'housing',\n",
       " 'rent',\n",
       " 'utilities',\n",
       " 'finances',\n",
       " 'transportation',\n",
       " 'loneliness',\n",
       " 'personal_safety',\n",
       " 'childcare',\n",
       " 'employment']"
      ]
     },
     "execution_count": 24,
     "metadata": {},
     "output_type": "execute_result"
    }
   ],
   "source": [
    "# we see above that all alcohol or drug use was nan, meaning no responses here, so we will drop it from out list\n",
    "\n",
    "needs.remove('alcohol_or_drug_use')\n",
    "needs"
   ]
  },
  {
   "cell_type": "code",
   "execution_count": 27,
   "id": "8790afbb-6dae-4226-9a5c-5c11020c3da0",
   "metadata": {},
   "outputs": [],
   "source": [
    "df_needs = df[needs]\n",
    "\n",
    "df_needs = df_needs.notnull().astype('int')\n",
    "\n",
    "df_needs"
   ]
  },
  {
   "cell_type": "markdown",
   "id": "c1ba3769-af15-41e1-b494-890e3b077f56",
   "metadata": {},
   "source": [
    "#### For the needs columns, either a need is marked or the column is empty and has a nan, we are going to transform these columns in 1 and 0, with 1 denoting that the need was identified."
   ]
  },
  {
   "cell_type": "code",
   "execution_count": 28,
   "id": "6a04f4ea-309f-4dbc-8280-182373bac17f",
   "metadata": {},
   "outputs": [],
   "source": [
    "for need in needs:\n",
    "    df[need] = df[need].notnull().astype('int')"
   ]
  },
  {
   "cell_type": "code",
   "execution_count": 272,
   "id": "accac347-89f7-404b-b886-3a80da355cc5",
   "metadata": {},
   "outputs": [
    {
     "data": {
      "text/html": [
       "<div>\n",
       "<style scoped>\n",
       "    .dataframe tbody tr th:only-of-type {\n",
       "        vertical-align: middle;\n",
       "    }\n",
       "\n",
       "    .dataframe tbody tr th {\n",
       "        vertical-align: top;\n",
       "    }\n",
       "\n",
       "    .dataframe thead th {\n",
       "        text-align: right;\n",
       "    }\n",
       "</style>\n",
       "<table border=\"1\" class=\"dataframe\">\n",
       "  <thead>\n",
       "    <tr style=\"text-align: right;\">\n",
       "      <th></th>\n",
       "      <th>food</th>\n",
       "      <th>other_vaccines</th>\n",
       "      <th>housing</th>\n",
       "      <th>rent</th>\n",
       "      <th>utilities</th>\n",
       "      <th>finances</th>\n",
       "      <th>transportation</th>\n",
       "      <th>loneliness</th>\n",
       "      <th>personal_safety</th>\n",
       "      <th>childcare</th>\n",
       "      <th>employment</th>\n",
       "    </tr>\n",
       "  </thead>\n",
       "  <tbody>\n",
       "    <tr>\n",
       "      <th>0</th>\n",
       "      <td>0</td>\n",
       "      <td>0</td>\n",
       "      <td>0</td>\n",
       "      <td>0</td>\n",
       "      <td>0</td>\n",
       "      <td>0</td>\n",
       "      <td>0</td>\n",
       "      <td>0</td>\n",
       "      <td>0</td>\n",
       "      <td>0</td>\n",
       "      <td>0</td>\n",
       "    </tr>\n",
       "    <tr>\n",
       "      <th>1</th>\n",
       "      <td>1</td>\n",
       "      <td>1</td>\n",
       "      <td>1</td>\n",
       "      <td>1</td>\n",
       "      <td>1</td>\n",
       "      <td>1</td>\n",
       "      <td>1</td>\n",
       "      <td>1</td>\n",
       "      <td>1</td>\n",
       "      <td>1</td>\n",
       "      <td>1</td>\n",
       "    </tr>\n",
       "  </tbody>\n",
       "</table>\n",
       "</div>"
      ],
      "text/plain": [
       "   food  other_vaccines  housing  rent  utilities  finances  transportation  \\\n",
       "0     0               0        0     0          0         0               0   \n",
       "1     1               1        1     1          1         1               1   \n",
       "\n",
       "   loneliness  personal_safety  childcare  employment  \n",
       "0           0                0          0           0  \n",
       "1           1                1          1           1  "
      ]
     },
     "execution_count": 272,
     "metadata": {},
     "output_type": "execute_result"
    }
   ],
   "source": [
    "df[needs].head(2)"
   ]
  },
  {
   "cell_type": "markdown",
   "id": "bf027e0e-e3d8-4a37-ac07-f0bded7307dc",
   "metadata": {},
   "source": [
    "Now that we have transformed the columns, name some analysis on needs"
   ]
  },
  {
   "cell_type": "code",
   "execution_count": 33,
   "id": "ed5d7828-2651-45cc-90e5-b8290c089d2a",
   "metadata": {
    "tags": []
   },
   "outputs": [
    {
     "data": {
      "image/png": "[encoded data removed]",
      "text/plain": [
       "<Figure size 648x504 with 2 Axes>"
      ]
     },
     "metadata": {
      "needs_background": "light"
     },
     "output_type": "display_data"
    }
   ],
   "source": [
    "plt.figure(figsize=(9, 7))\n",
    "ax = sns.heatmap(df_needs.corr(), annot=True, cmap='coolwarm');"
   ]
  },
  {
   "cell_type": "markdown",
   "id": "25880834-5ebf-4cf7-8fce-0dc7377872d4",
   "metadata": {},
   "source": [
    "We can see that needs are highly correlated with each other. Clients who identify one need is likely to identify others as well. "
   ]
  },
  {
   "cell_type": "markdown",
   "id": "eaa20ec2-4520-46d8-a960-6a7ef9c782a6",
   "metadata": {},
   "source": [
    "### Let's look at vaccination and wellbeing"
   ]
  },
  {
   "cell_type": "markdown",
   "id": "737d72b7-7600-42b1-b845-3ff872d341d5",
   "metadata": {},
   "source": [
    "I explored the vaccine_status column to see how many respondents had been vaccinated. The column needs some cleaning, below I explore the different responses that were obtained, and made a determination on whether the responses indicated that the person has been vaccinated or not. With that information, I created a new column named 'is_vaccinated' to indicate whether someone has been vaccinated or not. "
   ]
  },
  {
   "cell_type": "code",
   "execution_count": 34,
   "id": "1ea5845b-1749-41b1-83e5-cb4bdd04360f",
   "metadata": {},
   "outputs": [],
   "source": [
    "df['vaccine_status'] = df['vaccine_status'].str.lower()"
   ]
  },
  {
   "cell_type": "code",
   "execution_count": 35,
   "id": "b3c3a790-e6ed-4874-9f8a-3e1993fdbbbe",
   "metadata": {
    "tags": []
   },
   "outputs": [
    {
     "data": {
      "text/plain": [
       "array([nan, 'the second shot of the pfizer covid-19 vaccine',\n",
       "       'the (one shot) johnson & johnson (janssen) vaccine',\n",
       "       'something else, not sure, or not yet determined',\n",
       "       'the second shot of the moderna covid-19 vaccine',\n",
       "       'the first shot of the moderna covid-19 vaccine',\n",
       "       'the first shot of the pfizer covid-19 vaccine', 'no', 'yes',\n",
       "       'partial (1 dose of 2-dose series (e.g., pfizer or moderna))',\n",
       "       \"can't take it\", 'likely', 'maybe', 'most likely', 'na',\n",
       "       'not likely at this time', 'not yet', 'only one', 'pregnant',\n",
       "       'still thinking', 'thinking about it', 'unlikely', 'yes, n-b',\n",
       "       'yes, needs second and booster', 'one dose', 'yes both doses',\n",
       "       'no/don’t want to', 'unsure', 'partial dose', '0', 'n0',\n",
       "       'refused to say', 'refused', 'no/interested', 'fully vaccinated',\n",
       "       '1st dose', 'no plan/hesitant', 'referred someone', '12/8/2021',\n",
       "       '1/6/2022', '1/7/2022', '1/10/2022', '1/11/2022', '1/12/2022',\n",
       "       '1/13/2022', '1/14/2022', '1/18/2022', '1/19/2022', '1/24/2022',\n",
       "       '1/25/2022', '1/26/2022', '1/27/2022', '1/28/2022', '1/31/2022',\n",
       "       '2/1/2022', '2/2/2022', '2/3/2022', '2/4/2022', '2/7/2022',\n",
       "       '1/8/2022', '2/8/2022', '2/9/2022', '2/10/2022', '2/11/2022',\n",
       "       '2/14/2022', '2/15/2022', '2/16/2022', '2/17/2022', '2/18/2022',\n",
       "       '2/25/2022', '2/28/2022', '3/1/2022', '3/2/2022', '3/3/2022',\n",
       "       '3/4/2022', '3/7/2022', '3/8/2022', '3/9/2022', '3/10/2022',\n",
       "       '3/11/2022', '3/14/2022', '0022-03-14', '3/15/2022', '3/16/2022',\n",
       "       '3/17/2022', '3/18/2022', '3/21/2022', '3/21/2020', '3/22/2022',\n",
       "       '3/23/2022', '3/23/2020', '3/24/2022', '3/24/2024', '3/25/2022',\n",
       "       '3/28/2022', '0202-03-28', '3/29/2022', '3/30/2022', '3/31/2022',\n",
       "       '4/1/2022', '4/2/2022', '4/4/2022', '4/4/2023', '0021-10-15',\n",
       "       '11/6/2021', '11/18/2021', '11/23/2021'], dtype=object)"
      ]
     },
     "execution_count": 35,
     "metadata": {},
     "output_type": "execute_result"
    }
   ],
   "source": [
    "df['vaccine_status'].unique()"
   ]
  },
  {
   "cell_type": "code",
   "execution_count": 36,
   "id": "a084369f-d49d-4b2c-8bd1-5a9a7bfaaabf",
   "metadata": {},
   "outputs": [
    {
     "data": {
      "text/plain": [
       "nan"
      ]
     },
     "execution_count": 36,
     "metadata": {},
     "output_type": "execute_result"
    }
   ],
   "source": [
    "vaccine_status = df['vaccine_status'].unique().tolist()\n",
    "vaccine_status.pop(0)"
   ]
  },
  {
   "cell_type": "code",
   "execution_count": 37,
   "id": "eba30233-76c5-4d11-b424-2decfcddbbdd",
   "metadata": {},
   "outputs": [],
   "source": [
    "# build a function to capture clients whose reponded positively to their vaccination status\n",
    "\n",
    "# Note that I assume that is a data is entered, then this is the date of vaccination\n",
    "# Note if responses are unsure, or indicates what may be a reason not to vaccinate i.e. pregmant, then I assume no\n",
    "\n",
    "def is_vaccinated(text):\n",
    "    if 'no/' in text:\n",
    "        return 0\n",
    "    if 'pfizer' in text:\n",
    "        return 1\n",
    "    if 'johnson' in text:\n",
    "        return 1\n",
    "    if 'moderna' in text:\n",
    "        return 1\n",
    "    if 'fully vaccinated' in text:\n",
    "        return 1\n",
    "    if 'yes' in text:\n",
    "        return 1\n",
    "    if 'dose' in text:\n",
    "        return 1\n",
    "    if text == '0':\n",
    "        return 0\n",
    "    if 'only one' in text:\n",
    "        return 1\n",
    "\n",
    "    for i in text:\n",
    "        if i == '/' or i=='-':\n",
    "            return 1\n",
    "    else:\n",
    "        return 0"
   ]
  },
  {
   "cell_type": "code",
   "execution_count": null,
   "id": "ace6f5cd-1f7c-42d7-aa86-49913ba79185",
   "metadata": {
    "tags": []
   },
   "outputs": [],
   "source": [
    "# Although tedious, by iterating through the responses, we make sure the function has properly captures all cases\n",
    "\n",
    "for i in vaccine_status:\n",
    "    print(i, is_vaccinated(i))"
   ]
  },
  {
   "cell_type": "code",
   "execution_count": 39,
   "id": "49a8a116-1d70-496f-85ec-160e00c1f127",
   "metadata": {},
   "outputs": [],
   "source": [
    "# In order for my function above to work, I must convert all nan to str\n",
    "\n",
    "df['vaccine_status'] = df['vaccine_status'].fillna(value='0')"
   ]
  },
  {
   "cell_type": "code",
   "execution_count": 40,
   "id": "25d6005b-525f-4bce-a029-e02f3d05e860",
   "metadata": {},
   "outputs": [],
   "source": [
    "df['is_vaccinated'] = df['vaccine_status'].apply(lambda x: is_vaccinated(x))"
   ]
  },
  {
   "cell_type": "markdown",
   "id": "c41012f7-7d53-4a46-bbfb-f86561c4e024",
   "metadata": {},
   "source": [
    "#### Now that we have a column indicated whether someone is vaccinated, we can look at vaccination rates of participants. "
   ]
  },
  {
   "cell_type": "code",
   "execution_count": 41,
   "id": "96aeb681-2367-45c8-bcf1-fdb1028d3b44",
   "metadata": {},
   "outputs": [
    {
     "data": {
      "text/plain": [
       "0.4403292181069959"
      ]
     },
     "execution_count": 41,
     "metadata": {},
     "output_type": "execute_result"
    }
   ],
   "source": [
    "# What proportion of respondends answered positively to vaccination status?\n",
    "\n",
    "df['is_vaccinated'].mean()"
   ]
  },
  {
   "cell_type": "code",
   "execution_count": 42,
   "id": "ab763a40-13f8-4a9e-b490-263bfe93b64b",
   "metadata": {},
   "outputs": [
    {
     "data": {
      "text/plain": [
       "0    0.56\n",
       "1    0.44\n",
       "Name: is_vaccinated, dtype: float64"
      ]
     },
     "execution_count": 42,
     "metadata": {},
     "output_type": "execute_result"
    }
   ],
   "source": [
    "df['is_vaccinated'].value_counts(normalize=True).round(2)"
   ]
  },
  {
   "cell_type": "markdown",
   "id": "335fdb07-fd6e-461c-aefe-33634b9e3396",
   "metadata": {},
   "source": [
    "We see that about 44% of participants answered in a way that indicated that they had been vaccinated"
   ]
  },
  {
   "cell_type": "markdown",
   "id": "b8d635da-f4c0-4a3b-94b8-8ca9682857c8",
   "metadata": {},
   "source": [
    "### Where is the data coming from, who are the partners?"
   ]
  },
  {
   "cell_type": "code",
   "execution_count": 43,
   "id": "292de6fe-fdb0-471f-9e12-7a55519d5b42",
   "metadata": {},
   "outputs": [
    {
     "data": {
      "text/plain": [
       "Center for Popular Democracy       12083\n",
       "USAging                             1438\n",
       "Chromatic Black                     1308\n",
       "Meals on Wheels America             1288\n",
       "Migrant Clinician's Network         1250\n",
       "CACHE-PHI                           1185\n",
       "National Councils on Aging          1089\n",
       "Hawai'i Public Health Institute      150\n",
       "WE in the World                       66\n",
       "Latino Health Access                  36\n",
       "Name: Rise Partners, dtype: int64"
      ]
     },
     "execution_count": 43,
     "metadata": {},
     "output_type": "execute_result"
    }
   ],
   "source": [
    "# Let's look at the rise partners\n",
    "\n",
    "rise_partners = df['Rise Partners'].unique().tolist()\n",
    "partners = df['Rise Partners'].value_counts()\n",
    "partners"
   ]
  },
  {
   "cell_type": "code",
   "execution_count": 44,
   "id": "54390900-6b3e-486c-ad35-e0f6a2fd1799",
   "metadata": {},
   "outputs": [
    {
     "data": {
      "text/plain": [
       "Index(['Center for Popular Democracy', 'USAging', 'Chromatic Black',\n",
       "       'Meals on Wheels America', 'Migrant Clinician's Network', 'CACHE-PHI',\n",
       "       'National Councils on Aging', 'Hawai'i Public Health Institute',\n",
       "       'WE in the World', 'Latino Health Access'],\n",
       "      dtype='object')"
      ]
     },
     "execution_count": 44,
     "metadata": {},
     "output_type": "execute_result"
    }
   ],
   "source": [
    "partners.index"
   ]
  },
  {
   "cell_type": "code",
   "execution_count": 45,
   "id": "bdc24ae6-6b8b-48ba-acf8-b534fe3dabdb",
   "metadata": {},
   "outputs": [
    {
     "data": {
      "image/png": "[encoded data removed]",
      "text/plain": [
       "<Figure size 432x288 with 1 Axes>"
      ]
     },
     "metadata": {
      "needs_background": "light"
     },
     "output_type": "display_data"
    }
   ],
   "source": [
    "plt.barh(partners.index, partners);"
   ]
  },
  {
   "cell_type": "markdown",
   "id": "6007fc4d-cdb5-4371-a1fa-d0963e864727",
   "metadata": {},
   "source": [
    "#### What are the vaccination rates by partner?"
   ]
  },
  {
   "cell_type": "code",
   "execution_count": 46,
   "id": "b94ebcf6-fc2f-4756-9605-698e33f0ce27",
   "metadata": {},
   "outputs": [
    {
     "data": {
      "text/html": [
       "<div>\n",
       "<style scoped>\n",
       "    .dataframe tbody tr th:only-of-type {\n",
       "        vertical-align: middle;\n",
       "    }\n",
       "\n",
       "    .dataframe tbody tr th {\n",
       "        vertical-align: top;\n",
       "    }\n",
       "\n",
       "    .dataframe thead th {\n",
       "        text-align: right;\n",
       "    }\n",
       "</style>\n",
       "<table border=\"1\" class=\"dataframe\">\n",
       "  <thead>\n",
       "    <tr style=\"text-align: right;\">\n",
       "      <th></th>\n",
       "      <th>is_vaccinated</th>\n",
       "    </tr>\n",
       "    <tr>\n",
       "      <th>Rise Partners</th>\n",
       "      <th></th>\n",
       "    </tr>\n",
       "  </thead>\n",
       "  <tbody>\n",
       "    <tr>\n",
       "      <th>CACHE-PHI</th>\n",
       "      <td>0.000000</td>\n",
       "    </tr>\n",
       "    <tr>\n",
       "      <th>Latino Health Access</th>\n",
       "      <td>0.000000</td>\n",
       "    </tr>\n",
       "    <tr>\n",
       "      <th>WE in the World</th>\n",
       "      <td>0.000000</td>\n",
       "    </tr>\n",
       "    <tr>\n",
       "      <th>Meals on Wheels America</th>\n",
       "      <td>0.005435</td>\n",
       "    </tr>\n",
       "    <tr>\n",
       "      <th>USAging</th>\n",
       "      <td>0.034075</td>\n",
       "    </tr>\n",
       "    <tr>\n",
       "      <th>National Councils on Aging</th>\n",
       "      <td>0.063361</td>\n",
       "    </tr>\n",
       "    <tr>\n",
       "      <th>Chromatic Black</th>\n",
       "      <td>0.081804</td>\n",
       "    </tr>\n",
       "    <tr>\n",
       "      <th>Migrant Clinician's Network</th>\n",
       "      <td>0.206400</td>\n",
       "    </tr>\n",
       "    <tr>\n",
       "      <th>Center for Popular Democracy</th>\n",
       "      <td>0.710006</td>\n",
       "    </tr>\n",
       "    <tr>\n",
       "      <th>Hawai'i Public Health Institute</th>\n",
       "      <td>0.846667</td>\n",
       "    </tr>\n",
       "  </tbody>\n",
       "</table>\n",
       "</div>"
      ],
      "text/plain": [
       "                                 is_vaccinated\n",
       "Rise Partners                                 \n",
       "CACHE-PHI                             0.000000\n",
       "Latino Health Access                  0.000000\n",
       "WE in the World                       0.000000\n",
       "Meals on Wheels America               0.005435\n",
       "USAging                               0.034075\n",
       "National Councils on Aging            0.063361\n",
       "Chromatic Black                       0.081804\n",
       "Migrant Clinician's Network           0.206400\n",
       "Center for Popular Democracy          0.710006\n",
       "Hawai'i Public Health Institute       0.846667"
      ]
     },
     "execution_count": 46,
     "metadata": {},
     "output_type": "execute_result"
    }
   ],
   "source": [
    "df.groupby('Rise Partners').mean()[['is_vaccinated']].sort_values(by='is_vaccinated')"
   ]
  },
  {
   "cell_type": "markdown",
   "id": "181bd692-65b6-41f9-b1ee-54278c5422bc",
   "metadata": {},
   "source": [
    "The caveat here is that the data is not balanced, we have few entries for some organizations and a vast amount of entries for others"
   ]
  },
  {
   "cell_type": "markdown",
   "id": "1352b0a9-cb44-4ff7-9dd8-c0c82bd750d4",
   "metadata": {},
   "source": [
    "### Let's look at the wellbeing columns"
   ]
  },
  {
   "cell_type": "code",
   "execution_count": 47,
   "id": "82a69314-882a-4737-8967-4967e745bfb5",
   "metadata": {},
   "outputs": [],
   "source": [
    "wellbeing_q = ['current_wellbeing', 'wellbeing_five', 'wellbeing_two', 'overall_wellbeing', 'direction_and_purpose', 'positive_emotions', 'negative_emotions', 'covid_vaccine']"
   ]
  },
  {
   "cell_type": "code",
   "execution_count": 48,
   "id": "d29490c2-22c9-4a0c-9e50-eb190c0d3e81",
   "metadata": {},
   "outputs": [
    {
     "name": "stdout",
     "output_type": "stream",
     "text": [
      "current_wellbeing [nan  5.  4.  7. 10.  9.  8.  2.  6.  3.  0.  1. 20. 18.]\n",
      "wellbeing_five [nan  9.  2.  5. 10.  8.  7.  6.  4.  0.  3.  1.]\n",
      "wellbeing_two [nan  5.  7. 10.  8.  9.  2.  6.  4.  3.  1.  0.]\n",
      "overall_wellbeing [nan 'Struggling' 'Suffering' 'Thriving']\n",
      "direction_and_purpose [nan 10.  9.  7.  6.  8.  5.  1.  4.  3.  2.]\n",
      "positive_emotions [nan 10.  8.  7.  5.  9.  6.  2.  3.  4.  1.  0.]\n",
      "negative_emotions [nan  6.  3.  4.  5.  9.  7.  2.  1.  8. 10.  0.]\n",
      "covid_vaccine [nan 'covid vaccine']\n"
     ]
    }
   ],
   "source": [
    "for col in wellbeing_q:\n",
    "    print(col, df[col].unique())"
   ]
  },
  {
   "cell_type": "code",
   "execution_count": 49,
   "id": "8c7365e3-2ec5-4c14-9c2a-21fcaf9d3f4c",
   "metadata": {},
   "outputs": [],
   "source": [
    "# Let's encode covid_vaccine if it is not nan, then we assume the client has been vaccinated\n",
    "\n",
    "df['covid_vaccine'] = df['covid_vaccine'].notnull().astype('int')"
   ]
  },
  {
   "cell_type": "code",
   "execution_count": 50,
   "id": "fc0f3f08-0d17-494c-a13d-dc4169f16af0",
   "metadata": {},
   "outputs": [],
   "source": [
    "# Overall wellbeing can be to be one-hot-encoded"
   ]
  },
  {
   "cell_type": "code",
   "execution_count": 51,
   "id": "e93eb2d9-012e-4620-ad94-b46eef0e7d36",
   "metadata": {},
   "outputs": [],
   "source": [
    "for column in ['overall_wellbeing']:\n",
    "    dummies = pd.get_dummies(df[column])\n",
    "    df[dummies.columns] = dummies"
   ]
  },
  {
   "cell_type": "code",
   "execution_count": 52,
   "id": "fc0a9da7-cd3f-44f2-ad5e-6e0108cc1737",
   "metadata": {},
   "outputs": [
    {
     "data": {
      "text/html": [
       "<div>\n",
       "<style scoped>\n",
       "    .dataframe tbody tr th:only-of-type {\n",
       "        vertical-align: middle;\n",
       "    }\n",
       "\n",
       "    .dataframe tbody tr th {\n",
       "        vertical-align: top;\n",
       "    }\n",
       "\n",
       "    .dataframe thead th {\n",
       "        text-align: right;\n",
       "    }\n",
       "</style>\n",
       "<table border=\"1\" class=\"dataframe\">\n",
       "  <thead>\n",
       "    <tr style=\"text-align: right;\">\n",
       "      <th></th>\n",
       "      <th>date</th>\n",
       "      <th>Rise Partners</th>\n",
       "      <th>Rise Affiliate</th>\n",
       "      <th>zip</th>\n",
       "      <th>gender</th>\n",
       "      <th>sexuality</th>\n",
       "      <th>race</th>\n",
       "      <th>latino</th>\n",
       "      <th>other_languages</th>\n",
       "      <th>marital</th>\n",
       "      <th>age</th>\n",
       "      <th>current_wellbeing</th>\n",
       "      <th>wellbeing_five</th>\n",
       "      <th>wellbeing_two</th>\n",
       "      <th>overall_wellbeing</th>\n",
       "      <th>financial</th>\n",
       "      <th>direction_and_purpose</th>\n",
       "      <th>positive_emotions</th>\n",
       "      <th>negative_emotions</th>\n",
       "      <th>unfairly_treated</th>\n",
       "      <th>covid_vaccine</th>\n",
       "      <th>primary_care_or_other_health_care</th>\n",
       "      <th>there_is_nothing_i_need_help_with</th>\n",
       "      <th>flu_vaccine</th>\n",
       "      <th>food</th>\n",
       "      <th>other_vaccines</th>\n",
       "      <th>housing</th>\n",
       "      <th>rent</th>\n",
       "      <th>utilities</th>\n",
       "      <th>finances</th>\n",
       "      <th>transportation</th>\n",
       "      <th>loneliness</th>\n",
       "      <th>personal_safety</th>\n",
       "      <th>employment</th>\n",
       "      <th>childcare</th>\n",
       "      <th>alcohol_or_drug_use</th>\n",
       "      <th>first_time</th>\n",
       "      <th>hesitancy_reasons</th>\n",
       "      <th>vaccine_commitment</th>\n",
       "      <th>vaccine_status</th>\n",
       "      <th>difference_makers</th>\n",
       "      <th>previous_experience</th>\n",
       "      <th>hours</th>\n",
       "      <th>regular_activities</th>\n",
       "      <th>transportation_help_activities</th>\n",
       "      <th>follow_up_activities</th>\n",
       "      <th>form</th>\n",
       "      <th>vaccine_type</th>\n",
       "      <th>year</th>\n",
       "      <th>is_vaccinated</th>\n",
       "      <th>Struggling</th>\n",
       "      <th>Suffering</th>\n",
       "      <th>Thriving</th>\n",
       "    </tr>\n",
       "  </thead>\n",
       "  <tbody>\n",
       "    <tr>\n",
       "      <th>0</th>\n",
       "      <td>2021-08-04</td>\n",
       "      <td>Center for Popular Democracy</td>\n",
       "      <td>NaN</td>\n",
       "      <td>NaN</td>\n",
       "      <td>NaN</td>\n",
       "      <td>NaN</td>\n",
       "      <td>NaN</td>\n",
       "      <td>NaN</td>\n",
       "      <td>English</td>\n",
       "      <td>NaN</td>\n",
       "      <td>NaN</td>\n",
       "      <td>NaN</td>\n",
       "      <td>NaN</td>\n",
       "      <td>NaN</td>\n",
       "      <td>NaN</td>\n",
       "      <td>NaN</td>\n",
       "      <td>NaN</td>\n",
       "      <td>NaN</td>\n",
       "      <td>NaN</td>\n",
       "      <td>NaN</td>\n",
       "      <td>0</td>\n",
       "      <td>NaN</td>\n",
       "      <td>NaN</td>\n",
       "      <td>NaN</td>\n",
       "      <td>0</td>\n",
       "      <td>0</td>\n",
       "      <td>0</td>\n",
       "      <td>0</td>\n",
       "      <td>0</td>\n",
       "      <td>0</td>\n",
       "      <td>0</td>\n",
       "      <td>0</td>\n",
       "      <td>0</td>\n",
       "      <td>0</td>\n",
       "      <td>0</td>\n",
       "      <td>NaN</td>\n",
       "      <td>NaN</td>\n",
       "      <td>NaN</td>\n",
       "      <td>NaN</td>\n",
       "      <td>0</td>\n",
       "      <td>NaN</td>\n",
       "      <td>NaN</td>\n",
       "      <td>NaN</td>\n",
       "      <td>NaN</td>\n",
       "      <td>NaN</td>\n",
       "      <td>NaN</td>\n",
       "      <td>Brief Outreach Form</td>\n",
       "      <td>NaN</td>\n",
       "      <td>2021</td>\n",
       "      <td>0</td>\n",
       "      <td>0</td>\n",
       "      <td>0</td>\n",
       "      <td>0</td>\n",
       "    </tr>\n",
       "    <tr>\n",
       "      <th>1</th>\n",
       "      <td>2021-08-05</td>\n",
       "      <td>Migrant Clinician's Network</td>\n",
       "      <td>NaN</td>\n",
       "      <td>78756</td>\n",
       "      <td>Female</td>\n",
       "      <td>NaN</td>\n",
       "      <td>NaN</td>\n",
       "      <td>NaN</td>\n",
       "      <td>English</td>\n",
       "      <td>NaN</td>\n",
       "      <td>64</td>\n",
       "      <td>5.0</td>\n",
       "      <td>9.0</td>\n",
       "      <td>NaN</td>\n",
       "      <td>Struggling</td>\n",
       "      <td>NaN</td>\n",
       "      <td>NaN</td>\n",
       "      <td>NaN</td>\n",
       "      <td>NaN</td>\n",
       "      <td>NaN</td>\n",
       "      <td>1</td>\n",
       "      <td>NaN</td>\n",
       "      <td>there is nothing i need help with</td>\n",
       "      <td>flu vaccine</td>\n",
       "      <td>1</td>\n",
       "      <td>1</td>\n",
       "      <td>1</td>\n",
       "      <td>1</td>\n",
       "      <td>1</td>\n",
       "      <td>1</td>\n",
       "      <td>1</td>\n",
       "      <td>1</td>\n",
       "      <td>1</td>\n",
       "      <td>1</td>\n",
       "      <td>1</td>\n",
       "      <td>NaN</td>\n",
       "      <td>NaN</td>\n",
       "      <td>NaN</td>\n",
       "      <td>NaN</td>\n",
       "      <td>0</td>\n",
       "      <td>NaN</td>\n",
       "      <td>NaN</td>\n",
       "      <td>NaN</td>\n",
       "      <td>NaN</td>\n",
       "      <td>NaN</td>\n",
       "      <td>NaN</td>\n",
       "      <td>Brief Outreach Form</td>\n",
       "      <td>NaN</td>\n",
       "      <td>2021</td>\n",
       "      <td>0</td>\n",
       "      <td>1</td>\n",
       "      <td>0</td>\n",
       "      <td>0</td>\n",
       "    </tr>\n",
       "    <tr>\n",
       "      <th>2</th>\n",
       "      <td>2021-08-06</td>\n",
       "      <td>NaN</td>\n",
       "      <td>NaN</td>\n",
       "      <td>NaN</td>\n",
       "      <td>NaN</td>\n",
       "      <td>NaN</td>\n",
       "      <td>NaN</td>\n",
       "      <td>NaN</td>\n",
       "      <td>English</td>\n",
       "      <td>NaN</td>\n",
       "      <td>NaN</td>\n",
       "      <td>NaN</td>\n",
       "      <td>NaN</td>\n",
       "      <td>NaN</td>\n",
       "      <td>NaN</td>\n",
       "      <td>NaN</td>\n",
       "      <td>NaN</td>\n",
       "      <td>NaN</td>\n",
       "      <td>NaN</td>\n",
       "      <td>NaN</td>\n",
       "      <td>0</td>\n",
       "      <td>NaN</td>\n",
       "      <td>NaN</td>\n",
       "      <td>NaN</td>\n",
       "      <td>0</td>\n",
       "      <td>0</td>\n",
       "      <td>0</td>\n",
       "      <td>0</td>\n",
       "      <td>0</td>\n",
       "      <td>0</td>\n",
       "      <td>0</td>\n",
       "      <td>0</td>\n",
       "      <td>0</td>\n",
       "      <td>0</td>\n",
       "      <td>0</td>\n",
       "      <td>NaN</td>\n",
       "      <td>NaN</td>\n",
       "      <td>NaN</td>\n",
       "      <td>NaN</td>\n",
       "      <td>0</td>\n",
       "      <td>NaN</td>\n",
       "      <td>NaN</td>\n",
       "      <td>NaN</td>\n",
       "      <td>NaN</td>\n",
       "      <td>NaN</td>\n",
       "      <td>NaN</td>\n",
       "      <td>Brief Outreach Form</td>\n",
       "      <td>NaN</td>\n",
       "      <td>2021</td>\n",
       "      <td>0</td>\n",
       "      <td>0</td>\n",
       "      <td>0</td>\n",
       "      <td>0</td>\n",
       "    </tr>\n",
       "    <tr>\n",
       "      <th>3</th>\n",
       "      <td>2021-08-09</td>\n",
       "      <td>Hawai'i Public Health Institute</td>\n",
       "      <td>NaN</td>\n",
       "      <td>NaN</td>\n",
       "      <td>NaN</td>\n",
       "      <td>NaN</td>\n",
       "      <td>NaN</td>\n",
       "      <td>NaN</td>\n",
       "      <td>English</td>\n",
       "      <td>NaN</td>\n",
       "      <td>NaN</td>\n",
       "      <td>4.0</td>\n",
       "      <td>2.0</td>\n",
       "      <td>NaN</td>\n",
       "      <td>Suffering</td>\n",
       "      <td>NaN</td>\n",
       "      <td>NaN</td>\n",
       "      <td>NaN</td>\n",
       "      <td>NaN</td>\n",
       "      <td>NaN</td>\n",
       "      <td>0</td>\n",
       "      <td>NaN</td>\n",
       "      <td>NaN</td>\n",
       "      <td>NaN</td>\n",
       "      <td>0</td>\n",
       "      <td>0</td>\n",
       "      <td>0</td>\n",
       "      <td>0</td>\n",
       "      <td>0</td>\n",
       "      <td>0</td>\n",
       "      <td>0</td>\n",
       "      <td>0</td>\n",
       "      <td>1</td>\n",
       "      <td>1</td>\n",
       "      <td>1</td>\n",
       "      <td>NaN</td>\n",
       "      <td>NaN</td>\n",
       "      <td>NaN</td>\n",
       "      <td>NaN</td>\n",
       "      <td>0</td>\n",
       "      <td>NaN</td>\n",
       "      <td>NaN</td>\n",
       "      <td>NaN</td>\n",
       "      <td>NaN</td>\n",
       "      <td>NaN</td>\n",
       "      <td>NaN</td>\n",
       "      <td>Brief Outreach Form</td>\n",
       "      <td>NaN</td>\n",
       "      <td>2021</td>\n",
       "      <td>0</td>\n",
       "      <td>0</td>\n",
       "      <td>1</td>\n",
       "      <td>0</td>\n",
       "    </tr>\n",
       "    <tr>\n",
       "      <th>4</th>\n",
       "      <td>2021-08-12</td>\n",
       "      <td>NaN</td>\n",
       "      <td>NaN</td>\n",
       "      <td>NaN</td>\n",
       "      <td>NaN</td>\n",
       "      <td>NaN</td>\n",
       "      <td>NaN</td>\n",
       "      <td>NaN</td>\n",
       "      <td>English</td>\n",
       "      <td>NaN</td>\n",
       "      <td>NaN</td>\n",
       "      <td>NaN</td>\n",
       "      <td>NaN</td>\n",
       "      <td>NaN</td>\n",
       "      <td>NaN</td>\n",
       "      <td>NaN</td>\n",
       "      <td>NaN</td>\n",
       "      <td>NaN</td>\n",
       "      <td>NaN</td>\n",
       "      <td>NaN</td>\n",
       "      <td>0</td>\n",
       "      <td>NaN</td>\n",
       "      <td>NaN</td>\n",
       "      <td>NaN</td>\n",
       "      <td>0</td>\n",
       "      <td>0</td>\n",
       "      <td>0</td>\n",
       "      <td>0</td>\n",
       "      <td>0</td>\n",
       "      <td>0</td>\n",
       "      <td>0</td>\n",
       "      <td>0</td>\n",
       "      <td>0</td>\n",
       "      <td>0</td>\n",
       "      <td>0</td>\n",
       "      <td>NaN</td>\n",
       "      <td>NaN</td>\n",
       "      <td>NaN</td>\n",
       "      <td>NaN</td>\n",
       "      <td>0</td>\n",
       "      <td>NaN</td>\n",
       "      <td>NaN</td>\n",
       "      <td>NaN</td>\n",
       "      <td>NaN</td>\n",
       "      <td>NaN</td>\n",
       "      <td>NaN</td>\n",
       "      <td>Brief Outreach Form</td>\n",
       "      <td>NaN</td>\n",
       "      <td>2021</td>\n",
       "      <td>0</td>\n",
       "      <td>0</td>\n",
       "      <td>0</td>\n",
       "      <td>0</td>\n",
       "    </tr>\n",
       "  </tbody>\n",
       "</table>\n",
       "</div>"
      ],
      "text/plain": [
       "         date                    Rise Partners Rise Affiliate    zip  gender  \\\n",
       "0  2021-08-04     Center for Popular Democracy            NaN    NaN     NaN   \n",
       "1  2021-08-05      Migrant Clinician's Network            NaN  78756  Female   \n",
       "2  2021-08-06                              NaN            NaN    NaN     NaN   \n",
       "3  2021-08-09  Hawai'i Public Health Institute            NaN    NaN     NaN   \n",
       "4  2021-08-12                              NaN            NaN    NaN     NaN   \n",
       "\n",
       "  sexuality race latino other_languages marital  age  current_wellbeing  \\\n",
       "0       NaN  NaN    NaN         English     NaN  NaN                NaN   \n",
       "1       NaN  NaN    NaN         English     NaN   64                5.0   \n",
       "2       NaN  NaN    NaN         English     NaN  NaN                NaN   \n",
       "3       NaN  NaN    NaN         English     NaN  NaN                4.0   \n",
       "4       NaN  NaN    NaN         English     NaN  NaN                NaN   \n",
       "\n",
       "   wellbeing_five  wellbeing_two overall_wellbeing financial  \\\n",
       "0             NaN            NaN               NaN       NaN   \n",
       "1             9.0            NaN        Struggling       NaN   \n",
       "2             NaN            NaN               NaN       NaN   \n",
       "3             2.0            NaN         Suffering       NaN   \n",
       "4             NaN            NaN               NaN       NaN   \n",
       "\n",
       "   direction_and_purpose  positive_emotions  negative_emotions  \\\n",
       "0                    NaN                NaN                NaN   \n",
       "1                    NaN                NaN                NaN   \n",
       "2                    NaN                NaN                NaN   \n",
       "3                    NaN                NaN                NaN   \n",
       "4                    NaN                NaN                NaN   \n",
       "\n",
       "  unfairly_treated  covid_vaccine primary_care_or_other_health_care  \\\n",
       "0              NaN              0                               NaN   \n",
       "1              NaN              1                               NaN   \n",
       "2              NaN              0                               NaN   \n",
       "3              NaN              0                               NaN   \n",
       "4              NaN              0                               NaN   \n",
       "\n",
       "   there_is_nothing_i_need_help_with  flu_vaccine  food  other_vaccines  \\\n",
       "0                                NaN          NaN     0               0   \n",
       "1  there is nothing i need help with  flu vaccine     1               1   \n",
       "2                                NaN          NaN     0               0   \n",
       "3                                NaN          NaN     0               0   \n",
       "4                                NaN          NaN     0               0   \n",
       "\n",
       "   housing  rent  utilities  finances  transportation  loneliness  \\\n",
       "0        0     0          0         0               0           0   \n",
       "1        1     1          1         1               1           1   \n",
       "2        0     0          0         0               0           0   \n",
       "3        0     0          0         0               0           0   \n",
       "4        0     0          0         0               0           0   \n",
       "\n",
       "   personal_safety  employment  childcare  alcohol_or_drug_use first_time  \\\n",
       "0                0           0          0                  NaN        NaN   \n",
       "1                1           1          1                  NaN        NaN   \n",
       "2                0           0          0                  NaN        NaN   \n",
       "3                1           1          1                  NaN        NaN   \n",
       "4                0           0          0                  NaN        NaN   \n",
       "\n",
       "  hesitancy_reasons vaccine_commitment vaccine_status difference_makers  \\\n",
       "0               NaN                NaN              0               NaN   \n",
       "1               NaN                NaN              0               NaN   \n",
       "2               NaN                NaN              0               NaN   \n",
       "3               NaN                NaN              0               NaN   \n",
       "4               NaN                NaN              0               NaN   \n",
       "\n",
       "  previous_experience  hours regular_activities  \\\n",
       "0                 NaN    NaN                NaN   \n",
       "1                 NaN    NaN                NaN   \n",
       "2                 NaN    NaN                NaN   \n",
       "3                 NaN    NaN                NaN   \n",
       "4                 NaN    NaN                NaN   \n",
       "\n",
       "  transportation_help_activities follow_up_activities                 form  \\\n",
       "0                            NaN                  NaN  Brief Outreach Form   \n",
       "1                            NaN                  NaN  Brief Outreach Form   \n",
       "2                            NaN                  NaN  Brief Outreach Form   \n",
       "3                            NaN                  NaN  Brief Outreach Form   \n",
       "4                            NaN                  NaN  Brief Outreach Form   \n",
       "\n",
       "  vaccine_type  year  is_vaccinated  Struggling  Suffering  Thriving  \n",
       "0          NaN  2021              0           0          0         0  \n",
       "1          NaN  2021              0           1          0         0  \n",
       "2          NaN  2021              0           0          0         0  \n",
       "3          NaN  2021              0           0          1         0  \n",
       "4          NaN  2021              0           0          0         0  "
      ]
     },
     "execution_count": 52,
     "metadata": {},
     "output_type": "execute_result"
    }
   ],
   "source": [
    "df.head()"
   ]
  },
  {
   "cell_type": "code",
   "execution_count": 53,
   "id": "a11ec9af-65db-4efa-afb6-e75cf9b0e214",
   "metadata": {},
   "outputs": [
    {
     "data": {
      "text/plain": [
       "Struggling    11159\n",
       "Thriving       3856\n",
       "Suffering       437\n",
       "Name: overall_wellbeing, dtype: int64"
      ]
     },
     "execution_count": 53,
     "metadata": {},
     "output_type": "execute_result"
    }
   ],
   "source": [
    "df['overall_wellbeing'].value_counts()"
   ]
  },
  {
   "cell_type": "markdown",
   "id": "dffa4cbc-7461-4cba-9acc-01e7cd25532b",
   "metadata": {},
   "source": [
    "Most people who responded to overall welbeing are struggling. We do not have enough representative data on those that are 'suffering' to compare with the other groups. "
   ]
  },
  {
   "cell_type": "markdown",
   "id": "13cf6242-12ef-45c8-b66a-096b62868a96",
   "metadata": {},
   "source": [
    "#### Are people who are struggling less likely to be vaccinated?"
   ]
  },
  {
   "cell_type": "code",
   "execution_count": 54,
   "id": "63a5ff9b-467c-462c-9542-f05901de3453",
   "metadata": {},
   "outputs": [
    {
     "data": {
      "text/html": [
       "<div>\n",
       "<style scoped>\n",
       "    .dataframe tbody tr th:only-of-type {\n",
       "        vertical-align: middle;\n",
       "    }\n",
       "\n",
       "    .dataframe tbody tr th {\n",
       "        vertical-align: top;\n",
       "    }\n",
       "\n",
       "    .dataframe thead th {\n",
       "        text-align: right;\n",
       "    }\n",
       "</style>\n",
       "<table border=\"1\" class=\"dataframe\">\n",
       "  <thead>\n",
       "    <tr style=\"text-align: right;\">\n",
       "      <th></th>\n",
       "      <th>current_wellbeing</th>\n",
       "      <th>wellbeing_five</th>\n",
       "      <th>wellbeing_two</th>\n",
       "      <th>direction_and_purpose</th>\n",
       "      <th>positive_emotions</th>\n",
       "      <th>negative_emotions</th>\n",
       "      <th>is_vaccinated</th>\n",
       "    </tr>\n",
       "    <tr>\n",
       "      <th>overall_wellbeing</th>\n",
       "      <th></th>\n",
       "      <th></th>\n",
       "      <th></th>\n",
       "      <th></th>\n",
       "      <th></th>\n",
       "      <th></th>\n",
       "      <th></th>\n",
       "    </tr>\n",
       "  </thead>\n",
       "  <tbody>\n",
       "    <tr>\n",
       "      <th>Struggling</th>\n",
       "      <td>7.00</td>\n",
       "      <td>6.89</td>\n",
       "      <td>6.16</td>\n",
       "      <td>7.59</td>\n",
       "      <td>6.22</td>\n",
       "      <td>6.11</td>\n",
       "      <td>0.62</td>\n",
       "    </tr>\n",
       "    <tr>\n",
       "      <th>Suffering</th>\n",
       "      <td>2.80</td>\n",
       "      <td>3.34</td>\n",
       "      <td>2.54</td>\n",
       "      <td>8.00</td>\n",
       "      <td>10.00</td>\n",
       "      <td>NaN</td>\n",
       "      <td>0.12</td>\n",
       "    </tr>\n",
       "    <tr>\n",
       "      <th>Thriving</th>\n",
       "      <td>8.65</td>\n",
       "      <td>9.34</td>\n",
       "      <td>9.14</td>\n",
       "      <td>9.13</td>\n",
       "      <td>8.46</td>\n",
       "      <td>3.53</td>\n",
       "      <td>0.12</td>\n",
       "    </tr>\n",
       "  </tbody>\n",
       "</table>\n",
       "</div>"
      ],
      "text/plain": [
       "                   current_wellbeing  wellbeing_five  wellbeing_two  \\\n",
       "overall_wellbeing                                                     \n",
       "Struggling                      7.00            6.89           6.16   \n",
       "Suffering                       2.80            3.34           2.54   \n",
       "Thriving                        8.65            9.34           9.14   \n",
       "\n",
       "                   direction_and_purpose  positive_emotions  \\\n",
       "overall_wellbeing                                             \n",
       "Struggling                          7.59               6.22   \n",
       "Suffering                           8.00              10.00   \n",
       "Thriving                            9.13               8.46   \n",
       "\n",
       "                   negative_emotions  is_vaccinated  \n",
       "overall_wellbeing                                    \n",
       "Struggling                      6.11           0.62  \n",
       "Suffering                        NaN           0.12  \n",
       "Thriving                        3.53           0.12  "
      ]
     },
     "execution_count": 54,
     "metadata": {},
     "output_type": "execute_result"
    }
   ],
   "source": [
    "df.groupby('overall_wellbeing')[['current_wellbeing', 'wellbeing_five', 'wellbeing_two', 'overall_wellbeing', 'direction_and_purpose', 'positive_emotions', 'negative_emotions', 'is_vaccinated']].mean().round(2)"
   ]
  },
  {
   "cell_type": "markdown",
   "id": "f99a2d18-9aac-47e6-a611-7b10d87bcdd4",
   "metadata": {},
   "source": [
    "I am surprised to see that those who are Thriving only have 12% vaccination rate. "
   ]
  },
  {
   "cell_type": "markdown",
   "id": "e00d2a07-f7ab-43c3-8e99-6747930e62a7",
   "metadata": {},
   "source": [
    "### Is there a difference in wellbeing metrics between those who are vaccinated and those who are not?"
   ]
  },
  {
   "cell_type": "code",
   "execution_count": 55,
   "id": "f29be1ce-a03b-4737-a12f-af685678ff36",
   "metadata": {},
   "outputs": [
    {
     "data": {
      "text/plain": [
       "is_vaccinated\n",
       "0    7.18\n",
       "1    7.41\n",
       "Name: current_wellbeing, dtype: float64"
      ]
     },
     "execution_count": 55,
     "metadata": {},
     "output_type": "execute_result"
    }
   ],
   "source": [
    "df.groupby('is_vaccinated')['current_wellbeing'].mean().round(2)"
   ]
  },
  {
   "cell_type": "code",
   "execution_count": 56,
   "id": "beaea3cd-0500-4d95-86aa-0096f511579b",
   "metadata": {},
   "outputs": [
    {
     "data": {
      "text/html": [
       "<div>\n",
       "<style scoped>\n",
       "    .dataframe tbody tr th:only-of-type {\n",
       "        vertical-align: middle;\n",
       "    }\n",
       "\n",
       "    .dataframe tbody tr th {\n",
       "        vertical-align: top;\n",
       "    }\n",
       "\n",
       "    .dataframe thead th {\n",
       "        text-align: right;\n",
       "    }\n",
       "</style>\n",
       "<table border=\"1\" class=\"dataframe\">\n",
       "  <thead>\n",
       "    <tr style=\"text-align: right;\">\n",
       "      <th></th>\n",
       "      <th>count</th>\n",
       "      <th>mean</th>\n",
       "      <th>std</th>\n",
       "      <th>min</th>\n",
       "      <th>25%</th>\n",
       "      <th>50%</th>\n",
       "      <th>75%</th>\n",
       "      <th>max</th>\n",
       "    </tr>\n",
       "    <tr>\n",
       "      <th>is_vaccinated</th>\n",
       "      <th></th>\n",
       "      <th></th>\n",
       "      <th></th>\n",
       "      <th></th>\n",
       "      <th></th>\n",
       "      <th></th>\n",
       "      <th></th>\n",
       "      <th></th>\n",
       "    </tr>\n",
       "  </thead>\n",
       "  <tbody>\n",
       "    <tr>\n",
       "      <th>0</th>\n",
       "      <td>8072.0</td>\n",
       "      <td>7.18</td>\n",
       "      <td>2.27</td>\n",
       "      <td>0.0</td>\n",
       "      <td>6.0</td>\n",
       "      <td>8.0</td>\n",
       "      <td>9.0</td>\n",
       "      <td>10.0</td>\n",
       "    </tr>\n",
       "    <tr>\n",
       "      <th>1</th>\n",
       "      <td>7380.0</td>\n",
       "      <td>7.41</td>\n",
       "      <td>2.26</td>\n",
       "      <td>0.0</td>\n",
       "      <td>6.0</td>\n",
       "      <td>8.0</td>\n",
       "      <td>10.0</td>\n",
       "      <td>20.0</td>\n",
       "    </tr>\n",
       "  </tbody>\n",
       "</table>\n",
       "</div>"
      ],
      "text/plain": [
       "                count  mean   std  min  25%  50%   75%   max\n",
       "is_vaccinated                                               \n",
       "0              8072.0  7.18  2.27  0.0  6.0  8.0   9.0  10.0\n",
       "1              7380.0  7.41  2.26  0.0  6.0  8.0  10.0  20.0"
      ]
     },
     "execution_count": 56,
     "metadata": {},
     "output_type": "execute_result"
    }
   ],
   "source": [
    "df.groupby('is_vaccinated')['current_wellbeing'].describe().round(2)"
   ]
  },
  {
   "cell_type": "code",
   "execution_count": 57,
   "id": "d426af44-1cc9-4a62-935a-240c470d1288",
   "metadata": {},
   "outputs": [
    {
     "data": {
      "text/html": [
       "<div>\n",
       "<style scoped>\n",
       "    .dataframe tbody tr th:only-of-type {\n",
       "        vertical-align: middle;\n",
       "    }\n",
       "\n",
       "    .dataframe tbody tr th {\n",
       "        vertical-align: top;\n",
       "    }\n",
       "\n",
       "    .dataframe thead th {\n",
       "        text-align: right;\n",
       "    }\n",
       "</style>\n",
       "<table border=\"1\" class=\"dataframe\">\n",
       "  <thead>\n",
       "    <tr style=\"text-align: right;\">\n",
       "      <th></th>\n",
       "      <th>count</th>\n",
       "      <th>mean</th>\n",
       "      <th>std</th>\n",
       "      <th>min</th>\n",
       "      <th>25%</th>\n",
       "      <th>50%</th>\n",
       "      <th>75%</th>\n",
       "      <th>max</th>\n",
       "    </tr>\n",
       "    <tr>\n",
       "      <th>is_vaccinated</th>\n",
       "      <th></th>\n",
       "      <th></th>\n",
       "      <th></th>\n",
       "      <th></th>\n",
       "      <th></th>\n",
       "      <th></th>\n",
       "      <th></th>\n",
       "      <th></th>\n",
       "    </tr>\n",
       "  </thead>\n",
       "  <tbody>\n",
       "    <tr>\n",
       "      <th>0</th>\n",
       "      <td>407.0</td>\n",
       "      <td>7.93</td>\n",
       "      <td>2.05</td>\n",
       "      <td>0.0</td>\n",
       "      <td>7.0</td>\n",
       "      <td>8.0</td>\n",
       "      <td>10.0</td>\n",
       "      <td>10.0</td>\n",
       "    </tr>\n",
       "    <tr>\n",
       "      <th>1</th>\n",
       "      <td>0.0</td>\n",
       "      <td>NaN</td>\n",
       "      <td>NaN</td>\n",
       "      <td>NaN</td>\n",
       "      <td>NaN</td>\n",
       "      <td>NaN</td>\n",
       "      <td>NaN</td>\n",
       "      <td>NaN</td>\n",
       "    </tr>\n",
       "  </tbody>\n",
       "</table>\n",
       "</div>"
      ],
      "text/plain": [
       "               count  mean   std  min  25%  50%   75%   max\n",
       "is_vaccinated                                              \n",
       "0              407.0  7.93  2.05  0.0  7.0  8.0  10.0  10.0\n",
       "1                0.0   NaN   NaN  NaN  NaN  NaN   NaN   NaN"
      ]
     },
     "execution_count": 57,
     "metadata": {},
     "output_type": "execute_result"
    }
   ],
   "source": [
    "df.groupby('is_vaccinated')['positive_emotions'].describe().round(2)"
   ]
  },
  {
   "cell_type": "code",
   "execution_count": 58,
   "id": "76c16906-0ba1-4657-bcd9-609afdb00912",
   "metadata": {},
   "outputs": [
    {
     "data": {
      "text/html": [
       "<div>\n",
       "<style scoped>\n",
       "    .dataframe tbody tr th:only-of-type {\n",
       "        vertical-align: middle;\n",
       "    }\n",
       "\n",
       "    .dataframe tbody tr th {\n",
       "        vertical-align: top;\n",
       "    }\n",
       "\n",
       "    .dataframe thead th {\n",
       "        text-align: right;\n",
       "    }\n",
       "</style>\n",
       "<table border=\"1\" class=\"dataframe\">\n",
       "  <thead>\n",
       "    <tr style=\"text-align: right;\">\n",
       "      <th></th>\n",
       "      <th>count</th>\n",
       "      <th>mean</th>\n",
       "      <th>std</th>\n",
       "      <th>min</th>\n",
       "      <th>25%</th>\n",
       "      <th>50%</th>\n",
       "      <th>75%</th>\n",
       "      <th>max</th>\n",
       "    </tr>\n",
       "    <tr>\n",
       "      <th>is_vaccinated</th>\n",
       "      <th></th>\n",
       "      <th></th>\n",
       "      <th></th>\n",
       "      <th></th>\n",
       "      <th></th>\n",
       "      <th></th>\n",
       "      <th></th>\n",
       "      <th></th>\n",
       "    </tr>\n",
       "  </thead>\n",
       "  <tbody>\n",
       "    <tr>\n",
       "      <th>0</th>\n",
       "      <td>407.0</td>\n",
       "      <td>4.15</td>\n",
       "      <td>2.8</td>\n",
       "      <td>0.0</td>\n",
       "      <td>2.0</td>\n",
       "      <td>4.0</td>\n",
       "      <td>6.0</td>\n",
       "      <td>10.0</td>\n",
       "    </tr>\n",
       "    <tr>\n",
       "      <th>1</th>\n",
       "      <td>0.0</td>\n",
       "      <td>NaN</td>\n",
       "      <td>NaN</td>\n",
       "      <td>NaN</td>\n",
       "      <td>NaN</td>\n",
       "      <td>NaN</td>\n",
       "      <td>NaN</td>\n",
       "      <td>NaN</td>\n",
       "    </tr>\n",
       "  </tbody>\n",
       "</table>\n",
       "</div>"
      ],
      "text/plain": [
       "               count  mean  std  min  25%  50%  75%   max\n",
       "is_vaccinated                                            \n",
       "0              407.0  4.15  2.8  0.0  2.0  4.0  6.0  10.0\n",
       "1                0.0   NaN  NaN  NaN  NaN  NaN  NaN   NaN"
      ]
     },
     "execution_count": 58,
     "metadata": {},
     "output_type": "execute_result"
    }
   ],
   "source": [
    "df.groupby('is_vaccinated')['negative_emotions'].describe().round(2)"
   ]
  },
  {
   "cell_type": "code",
   "execution_count": 61,
   "id": "9b074e86-a00a-4df4-a6f2-b2822e3fd2e6",
   "metadata": {},
   "outputs": [
    {
     "data": {
      "text/plain": [
       "latino\n",
       "i prefer not to answer    0.47\n",
       "no                        0.67\n",
       "yes                       0.84\n",
       "Name: is_vaccinated, dtype: float64"
      ]
     },
     "execution_count": 61,
     "metadata": {},
     "output_type": "execute_result"
    }
   ],
   "source": [
    "df.groupby('latino')['is_vaccinated'].mean().round(2)"
   ]
  },
  {
   "cell_type": "markdown",
   "id": "92e791ea-4299-4214-86e6-05d80a4aeeb7",
   "metadata": {},
   "source": [
    "### How does vaccination status relate to needs that were identified?"
   ]
  },
  {
   "cell_type": "code",
   "execution_count": 62,
   "id": "39d27b53-745d-40a9-8107-541840620588",
   "metadata": {},
   "outputs": [],
   "source": [
    "needs_vaccine = needs + ['is_vaccinated']"
   ]
  },
  {
   "cell_type": "code",
   "execution_count": 63,
   "id": "8e6df41d-96d2-4a82-a69e-f2563112cd6f",
   "metadata": {},
   "outputs": [
    {
     "data": {
      "image/png": "[encoded data removed]",
      "text/plain": [
       "<Figure size 648x504 with 2 Axes>"
      ]
     },
     "metadata": {
      "needs_background": "light"
     },
     "output_type": "display_data"
    }
   ],
   "source": [
    "plt.figure(figsize=(9, 7))\n",
    "ax = sns.heatmap(df[needs_vaccine].corr(), annot=True, cmap='coolwarm');\n"
   ]
  },
  {
   "cell_type": "markdown",
   "id": "636d4557-0531-4c06-91ce-86e1376b1547",
   "metadata": {},
   "source": [
    "We can see that there is a negative relationship between needs identified and vaccination status"
   ]
  },
  {
   "cell_type": "code",
   "execution_count": 64,
   "id": "049bfddb-14f4-4377-940b-81e1f7687c06",
   "metadata": {},
   "outputs": [
    {
     "data": {
      "image/png": "[encoded data removed]",
      "text/plain": [
       "<Figure size 648x504 with 2 Axes>"
      ]
     },
     "metadata": {
      "needs_background": "light"
     },
     "output_type": "display_data"
    }
   ],
   "source": [
    "corr= df[needs_vaccine].corr()\n",
    "\n",
    "# Getting the Upper Triangle of the co-relation matrix\n",
    "matrix = np.triu(corr)\n",
    "\n",
    "plt.figure(figsize=(9, 7))\n",
    "\n",
    "# using the upper triangle matrix as mask \n",
    "sns.heatmap(corr, annot=True, mask=matrix, vmin=-1, cmap='coolwarm');"
   ]
  },
  {
   "cell_type": "markdown",
   "id": "78585300-dea6-4611-bbb5-1844fba91c23",
   "metadata": {},
   "source": [
    "## Gender columns"
   ]
  },
  {
   "cell_type": "markdown",
   "id": "d147a1f1-b371-4dac-a3c5-a5ddebef1950",
   "metadata": {},
   "source": [
    "### Approach to gender columns:\n",
    "\n",
    "After reviewing some the answer for gender, I will make the following columns to capture the most prevalent gender categories: is_female, is_male, is_nonbinary, is_transgender, is_genderqueer\n",
    "\n",
    "For people who have checked multiple genders, they will then get assigned a 1 for each category they have identified with. For people who checked both female and male, I will not assume that they made a mistake, but rather they they identify as both, and so will be assigned a 1 in each category. "
   ]
  },
  {
   "cell_type": "code",
   "execution_count": 127,
   "id": "285e3815-8d7a-4b72-bf6d-8267454d496d",
   "metadata": {},
   "outputs": [],
   "source": [
    "df['gender'] = df['gender'].str.lower()"
   ]
  },
  {
   "cell_type": "code",
   "execution_count": null,
   "id": "d6d2f79a-112c-479f-8831-6f4f0f322b21",
   "metadata": {
    "tags": []
   },
   "outputs": [],
   "source": [
    "gender_answers = df['gender'].unique().tolist()\n",
    "gender_answers.pop(0)\n",
    "gender_answers"
   ]
  },
  {
   "cell_type": "markdown",
   "id": "29e10f8a-c2c7-47b8-b8c7-2d60618769c8",
   "metadata": {},
   "source": [
    "#### Make is_female column"
   ]
  },
  {
   "cell_type": "code",
   "execution_count": 129,
   "id": "fd6d1748-dc7a-4baa-8585-6543787b8593",
   "metadata": {},
   "outputs": [],
   "source": [
    "def is_female(text):\n",
    "    if len(text) > 100:\n",
    "        return 0\n",
    "    if 'female to male' in text:\n",
    "        return 0\n",
    "    if 'female' in text:\n",
    "        return 1\n",
    "    if text == 'f':\n",
    "        return 1\n",
    "    if 'femme' in text:\n",
    "        return 1\n",
    "    if text == '0':\n",
    "        return 0\n",
    "    else:\n",
    "        return 0"
   ]
  },
  {
   "cell_type": "code",
   "execution_count": 130,
   "id": "7b21001b-4db0-42db-8564-a5476803e01b",
   "metadata": {
    "tags": []
   },
   "outputs": [
    {
     "name": "stdout",
     "output_type": "stream",
     "text": [
      "female 1\n",
      "male 0\n",
      "genderqueer, gender nonconforming, or nonbinary 0\n",
      "transgender 0\n",
      "male, female 1\n",
      "i prefer not to answer 0\n",
      "agender 0\n",
      "male, genderqueer, gender nonconforming, or nonbinary 0\n",
      "female, transgender 1\n",
      "transgender, genderqueer, gender nonconforming, or nonbinary, this question should ask if people identify as cis-male/female or trans-male/female etc.  ... transgender people are not a seperate category of man or woman, they are men and women. 0\n",
      "genderqueer, gender nonconforming, or nonbinary, agender 0\n",
      "female, genderqueer, gender nonconforming, or nonbinary 1\n",
      "male, transgender 0\n",
      "man 0\n",
      "none 0\n",
      "prefer not to answer 0\n",
      "f 1\n",
      "m 0\n",
      "child 0\n",
      "femme 1\n",
      "female to male 0\n",
      "male; femme 1\n",
      "female; male 1\n",
      "masc 0\n",
      "non-binary 0\n",
      "man  or tr 0\n",
      "man , prefer not to answer 0\n",
      "other 0\n",
      "nonbinary 0\n",
      "no 0\n",
      "yes 0\n"
     ]
    }
   ],
   "source": [
    "for i in gender_answers:\n",
    "    print(i, is_female(i))"
   ]
  },
  {
   "cell_type": "code",
   "execution_count": 131,
   "id": "8dd6110c-b27d-4691-afd9-971a4db0f7f6",
   "metadata": {},
   "outputs": [],
   "source": [
    "# In order for my function above to work, I must convert all nan to str\n",
    "\n",
    "df['gender'] = df['gender'].fillna(value='0')"
   ]
  },
  {
   "cell_type": "code",
   "execution_count": 132,
   "id": "d44c320b-725e-40ea-b736-4a80fe6b225b",
   "metadata": {},
   "outputs": [],
   "source": [
    "df['is_female'] = df['gender'].apply(lambda x: is_female(x))"
   ]
  },
  {
   "cell_type": "code",
   "execution_count": 133,
   "id": "86067e12-1f2a-4c49-8987-1df890afacdb",
   "metadata": {},
   "outputs": [
    {
     "data": {
      "text/plain": [
       "0    12793\n",
       "1     8105\n",
       "Name: is_female, dtype: int64"
      ]
     },
     "execution_count": 133,
     "metadata": {},
     "output_type": "execute_result"
    }
   ],
   "source": [
    "df['is_female'].value_counts()"
   ]
  },
  {
   "cell_type": "code",
   "execution_count": 134,
   "id": "384bfb0f-9288-40d6-8721-f9dc5976f4b6",
   "metadata": {},
   "outputs": [],
   "source": [
    "#### is_male column"
   ]
  },
  {
   "cell_type": "code",
   "execution_count": 135,
   "id": "feae8b1e-e91d-4eb5-8b0a-7fc96576c6b4",
   "metadata": {},
   "outputs": [],
   "source": [
    "def is_male(text):\n",
    "    if len(text) > 100:\n",
    "        return 0\n",
    "    if 'female to male' in text:\n",
    "        return 1\n",
    "    if text == 'male, female':\n",
    "        return 1\n",
    "    if text == 'female; male':\n",
    "        return 1\n",
    "    if 'female' in text:\n",
    "        return 0\n",
    "    if 'male' in text:\n",
    "        return 1\n",
    "    if text == 'm':\n",
    "        return 1\n",
    "    if 'man' in text:\n",
    "        return 1\n",
    "    if 'masc' in text:\n",
    "        return 1\n",
    "    if text == '0':\n",
    "        return 0\n",
    "    else:\n",
    "        return 0"
   ]
  },
  {
   "cell_type": "code",
   "execution_count": null,
   "id": "fabdf08e-46a2-45ad-92c5-2fb0b33e05cd",
   "metadata": {
    "tags": []
   },
   "outputs": [],
   "source": [
    "for i in gender_answers:\n",
    "    print(i, is_male(i))"
   ]
  },
  {
   "cell_type": "code",
   "execution_count": 137,
   "id": "67113f54-2f7d-4907-96d4-ce9d0ec7a7a7",
   "metadata": {},
   "outputs": [],
   "source": [
    "df['is_male'] = df['gender'].apply(lambda x: is_male(x))"
   ]
  },
  {
   "cell_type": "code",
   "execution_count": 138,
   "id": "59552072-be13-404c-8fe9-53d45ce12719",
   "metadata": {},
   "outputs": [
    {
     "data": {
      "text/plain": [
       "0    15121\n",
       "1     5777\n",
       "Name: is_male, dtype: int64"
      ]
     },
     "execution_count": 138,
     "metadata": {},
     "output_type": "execute_result"
    }
   ],
   "source": [
    "df['is_male'].value_counts()"
   ]
  },
  {
   "cell_type": "code",
   "execution_count": 139,
   "id": "0ddfb790-5bb3-4317-b663-af0c8852303d",
   "metadata": {},
   "outputs": [],
   "source": [
    "# is_nonbinary column"
   ]
  },
  {
   "cell_type": "code",
   "execution_count": 140,
   "id": "aab2dfce-bbe1-41f2-bdd6-baedb2c49c9c",
   "metadata": {},
   "outputs": [],
   "source": [
    "def is_nonbinary(text):\n",
    "    if 'nonbinary' in text:\n",
    "        return 1\n",
    "    if 'non-binary' in text:\n",
    "        return 1\n",
    "    else:\n",
    "        return 0"
   ]
  },
  {
   "cell_type": "code",
   "execution_count": null,
   "id": "b0d92425-dc68-4ef7-9a43-c7abc19c5786",
   "metadata": {
    "tags": []
   },
   "outputs": [],
   "source": [
    "for i in gender_answers:\n",
    "    print(i, is_nonbinary(i))"
   ]
  },
  {
   "cell_type": "code",
   "execution_count": 142,
   "id": "1c673568-e541-4dc8-8ac6-4beca8ded527",
   "metadata": {},
   "outputs": [],
   "source": [
    "df['is_nonbinary'] = df['gender'].apply(lambda x: is_nonbinary(x))"
   ]
  },
  {
   "cell_type": "code",
   "execution_count": 143,
   "id": "50c39c62-2e98-415c-b13a-7fc329e08ddd",
   "metadata": {},
   "outputs": [
    {
     "data": {
      "text/plain": [
       "0    20872\n",
       "1       26\n",
       "Name: is_nonbinary, dtype: int64"
      ]
     },
     "execution_count": 143,
     "metadata": {},
     "output_type": "execute_result"
    }
   ],
   "source": [
    "df['is_nonbinary'].value_counts()"
   ]
  },
  {
   "cell_type": "code",
   "execution_count": 144,
   "id": "524e75c3-f6d7-4716-8aae-cbfcb53505d7",
   "metadata": {},
   "outputs": [],
   "source": [
    "# is_transgender "
   ]
  },
  {
   "cell_type": "code",
   "execution_count": 145,
   "id": "af83224d-ec54-48ae-bb53-0c01271b7842",
   "metadata": {},
   "outputs": [],
   "source": [
    "def is_transgender(text):\n",
    "    if 'transgender' in text:\n",
    "        return 1\n",
    "    if text == 'female to male':\n",
    "        return 1\n",
    "    if 'tr' in text:\n",
    "        return 1\n",
    "    else:\n",
    "        return 0"
   ]
  },
  {
   "cell_type": "code",
   "execution_count": null,
   "id": "4aa3d254-7f0f-4425-b07e-5541cd0bd8ce",
   "metadata": {
    "tags": []
   },
   "outputs": [],
   "source": [
    "for i in gender_answers:\n",
    "    print(i, is_transgender(i))"
   ]
  },
  {
   "cell_type": "code",
   "execution_count": 147,
   "id": "f8b3e111-6a8e-4846-9fba-b90931d1bc3d",
   "metadata": {},
   "outputs": [],
   "source": [
    "df['is_transgender'] = df['gender'].apply(lambda x: is_transgender(x))"
   ]
  },
  {
   "cell_type": "code",
   "execution_count": 148,
   "id": "5f0a7b22-59bd-428f-a645-f1fb8a64d2fc",
   "metadata": {},
   "outputs": [
    {
     "data": {
      "text/plain": [
       "0    20782\n",
       "1      116\n",
       "Name: is_transgender, dtype: int64"
      ]
     },
     "execution_count": 148,
     "metadata": {},
     "output_type": "execute_result"
    }
   ],
   "source": [
    "df['is_transgender'].value_counts()"
   ]
  },
  {
   "cell_type": "code",
   "execution_count": 149,
   "id": "ee982382-2f97-40db-9162-e62a923651a8",
   "metadata": {},
   "outputs": [],
   "source": [
    "# genderqueer column"
   ]
  },
  {
   "cell_type": "code",
   "execution_count": 150,
   "id": "15419452-0f36-4581-9e74-ed7852402e69",
   "metadata": {},
   "outputs": [],
   "source": [
    "def is_genderqueer(text):\n",
    "    if 'genderqueer' in text:\n",
    "        return 1\n",
    "    else:\n",
    "        return 0"
   ]
  },
  {
   "cell_type": "code",
   "execution_count": null,
   "id": "e409d913-f5d1-4660-89eb-cdd4be3e293f",
   "metadata": {
    "tags": []
   },
   "outputs": [],
   "source": [
    "for i in gender_answers:\n",
    "    print(i, is_genderqueer(i))"
   ]
  },
  {
   "cell_type": "code",
   "execution_count": 152,
   "id": "38234d28-2271-4219-b4be-f7f4915f6a9f",
   "metadata": {},
   "outputs": [],
   "source": [
    "df['is_genderqueer'] = df['gender'].apply(lambda x: is_genderqueer(x))"
   ]
  },
  {
   "cell_type": "code",
   "execution_count": 153,
   "id": "301564ac-c21d-417a-a7cc-f04592fe0484",
   "metadata": {},
   "outputs": [
    {
     "data": {
      "text/plain": [
       "0    20878\n",
       "1       20\n",
       "Name: is_genderqueer, dtype: int64"
      ]
     },
     "execution_count": 153,
     "metadata": {},
     "output_type": "execute_result"
    }
   ],
   "source": [
    "df['is_genderqueer'].value_counts()"
   ]
  },
  {
   "cell_type": "markdown",
   "id": "ca3602f7-d906-4f6e-b4c1-49cc67317f51",
   "metadata": {},
   "source": [
    "The columns for those who identify as non-binary, genderqueer, and or transgender captures about 160 individuals in the data set, and although they make up a small proportion of the overall data, I think it's important to capture these feature in an inclusive manner. "
   ]
  },
  {
   "cell_type": "markdown",
   "id": "45d231b1-33dd-44a5-ab53-a99401777bfb",
   "metadata": {},
   "source": [
    "### Let's look at how gender and needs interact, and how gender and vaccination status interacts"
   ]
  },
  {
   "cell_type": "code",
   "execution_count": 154,
   "id": "f719998f-d7c1-4981-8998-3b3a1544ec25",
   "metadata": {},
   "outputs": [],
   "source": [
    "gender_needs = needs + ['is_female', 'is_male', 'is_nonbinary', 'is_transgender', 'is_genderqueer']"
   ]
  },
  {
   "cell_type": "code",
   "execution_count": 155,
   "id": "e3b02394-595e-4903-a8bf-91ae3ff54a0b",
   "metadata": {},
   "outputs": [
    {
     "data": {
      "image/png": "[encoded data removed]",
      "text/plain": [
       "<Figure size 864x648 with 2 Axes>"
      ]
     },
     "metadata": {
      "needs_background": "light"
     },
     "output_type": "display_data"
    }
   ],
   "source": [
    "plt.figure(figsize=(12, 9))\n",
    "ax = sns.heatmap(df[gender_needs].corr(), annot=True, cmap='coolwarm');"
   ]
  },
  {
   "cell_type": "markdown",
   "id": "b34b0b05-a66d-4478-9677-08d9ac18e889",
   "metadata": {},
   "source": [
    "There are no strong relationship between gender and the needs that have been identified "
   ]
  },
  {
   "cell_type": "code",
   "execution_count": 156,
   "id": "797ecbf8-9c75-4085-8770-05b89b8d7cbd",
   "metadata": {},
   "outputs": [],
   "source": [
    "gender_vaccines = ['is_female', 'is_male', 'is_nonbinary', 'is_transgender', 'is_genderqueer', 'is_vaccinated']"
   ]
  },
  {
   "cell_type": "code",
   "execution_count": 157,
   "id": "4afc154f-e118-48f7-a18f-cd59bcc2637d",
   "metadata": {},
   "outputs": [
    {
     "data": {
      "image/png": "[encoded data removed]",
      "text/plain": [
       "<Figure size 864x648 with 2 Axes>"
      ]
     },
     "metadata": {
      "needs_background": "light"
     },
     "output_type": "display_data"
    }
   ],
   "source": [
    "plt.figure(figsize=(12, 9))\n",
    "ax = sns.heatmap(df[gender_vaccines].corr(), annot=True, cmap='coolwarm');"
   ]
  },
  {
   "cell_type": "markdown",
   "id": "ba1ede5c-e986-461a-9edd-01525e034fd6",
   "metadata": {},
   "source": [
    "There are no strong correlatio between gender identification and vaccination status"
   ]
  },
  {
   "cell_type": "markdown",
   "id": "decc261a-23a2-4503-a2c6-95f3b746e63c",
   "metadata": {},
   "source": [
    "### Are there any difference in the avarage of needs for those of different gender identities?"
   ]
  },
  {
   "cell_type": "code",
   "execution_count": 162,
   "id": "7eb78c73-e26e-4d87-be9e-485ec4275a83",
   "metadata": {},
   "outputs": [],
   "source": [
    "gender_cols = ['is_female', 'is_male', 'is_nonbinary', 'is_transgender', 'is_genderqueer']"
   ]
  },
  {
   "cell_type": "code",
   "execution_count": 173,
   "id": "5fa5e368-a1ed-40f5-942d-e27d8232da33",
   "metadata": {},
   "outputs": [],
   "source": [
    "prop_dict = {}\n",
    "for gender in gender_cols:\n",
    "    gender_df = df[df[gender]==1]\n",
    "    total = gender_df.shape[0]\n",
    "    vaccinated = gender_df['is_vaccinated'].sum()\n",
    "    proportion = vaccinated/total\n",
    "    proportion = proportion.round(2)\n",
    "    prop_dict[gender] = proportion "
   ]
  },
  {
   "cell_type": "code",
   "execution_count": 189,
   "id": "ed5f2a83-749d-4498-a572-b9ced9048bd9",
   "metadata": {},
   "outputs": [
    {
     "data": {
      "text/html": [
       "<div>\n",
       "<style scoped>\n",
       "    .dataframe tbody tr th:only-of-type {\n",
       "        vertical-align: middle;\n",
       "    }\n",
       "\n",
       "    .dataframe tbody tr th {\n",
       "        vertical-align: top;\n",
       "    }\n",
       "\n",
       "    .dataframe thead th {\n",
       "        text-align: right;\n",
       "    }\n",
       "</style>\n",
       "<table border=\"1\" class=\"dataframe\">\n",
       "  <thead>\n",
       "    <tr style=\"text-align: right;\">\n",
       "      <th></th>\n",
       "      <th>0</th>\n",
       "    </tr>\n",
       "  </thead>\n",
       "  <tbody>\n",
       "    <tr>\n",
       "      <th>is_genderqueer</th>\n",
       "      <td>0.05</td>\n",
       "    </tr>\n",
       "    <tr>\n",
       "      <th>is_nonbinary</th>\n",
       "      <td>0.19</td>\n",
       "    </tr>\n",
       "    <tr>\n",
       "      <th>is_female</th>\n",
       "      <td>0.48</td>\n",
       "    </tr>\n",
       "    <tr>\n",
       "      <th>is_male</th>\n",
       "      <td>0.50</td>\n",
       "    </tr>\n",
       "    <tr>\n",
       "      <th>is_transgender</th>\n",
       "      <td>0.72</td>\n",
       "    </tr>\n",
       "  </tbody>\n",
       "</table>\n",
       "</div>"
      ],
      "text/plain": [
       "                   0\n",
       "is_genderqueer  0.05\n",
       "is_nonbinary    0.19\n",
       "is_female       0.48\n",
       "is_male         0.50\n",
       "is_transgender  0.72"
      ]
     },
     "execution_count": 189,
     "metadata": {},
     "output_type": "execute_result"
    }
   ],
   "source": [
    "prop_df = pd.DataFrame.from_dict(prop_dict, orient='index')\n",
    "prop_df.sort_values(by=0)"
   ]
  },
  {
   "cell_type": "code",
   "execution_count": 188,
   "id": "ba356c35-ef33-4bc6-ba02-4fe3585a5467",
   "metadata": {},
   "outputs": [
    {
     "data": {
      "image/png": "[encoded data removed]",
      "text/plain": [
       "<Figure size 432x288 with 1 Axes>"
      ]
     },
     "metadata": {
      "needs_background": "light"
     },
     "output_type": "display_data"
    }
   ],
   "source": [
    "prop_df.plot(kind='bar')\n",
    "plt.legend('')\n",
    "plt.xticks(rotation=20);"
   ]
  },
  {
   "cell_type": "markdown",
   "id": "7f83478f-af12-48c1-bacd-245dce1364f5",
   "metadata": {},
   "source": [
    "From the chart and the graph above, we can see that people who identify as nonbinary and as genderqueer have lower vaccination rates. "
   ]
  },
  {
   "cell_type": "code",
   "execution_count": 190,
   "id": "9da76c8a-eb1d-41cd-98a1-b4030e30c341",
   "metadata": {},
   "outputs": [
    {
     "data": {
      "text/html": [
       "<div>\n",
       "<style scoped>\n",
       "    .dataframe tbody tr th:only-of-type {\n",
       "        vertical-align: middle;\n",
       "    }\n",
       "\n",
       "    .dataframe tbody tr th {\n",
       "        vertical-align: top;\n",
       "    }\n",
       "\n",
       "    .dataframe thead th {\n",
       "        text-align: right;\n",
       "    }\n",
       "</style>\n",
       "<table border=\"1\" class=\"dataframe\">\n",
       "  <thead>\n",
       "    <tr style=\"text-align: right;\">\n",
       "      <th></th>\n",
       "      <th>food</th>\n",
       "      <th>other_vaccines</th>\n",
       "      <th>housing</th>\n",
       "      <th>rent</th>\n",
       "      <th>utilities</th>\n",
       "      <th>finances</th>\n",
       "      <th>transportation</th>\n",
       "      <th>loneliness</th>\n",
       "      <th>personal_safety</th>\n",
       "      <th>childcare</th>\n",
       "      <th>employment</th>\n",
       "      <th>is_vaccinated</th>\n",
       "    </tr>\n",
       "    <tr>\n",
       "      <th>is_female</th>\n",
       "      <th></th>\n",
       "      <th></th>\n",
       "      <th></th>\n",
       "      <th></th>\n",
       "      <th></th>\n",
       "      <th></th>\n",
       "      <th></th>\n",
       "      <th></th>\n",
       "      <th></th>\n",
       "      <th></th>\n",
       "      <th></th>\n",
       "      <th></th>\n",
       "    </tr>\n",
       "  </thead>\n",
       "  <tbody>\n",
       "    <tr>\n",
       "      <th>0</th>\n",
       "      <td>0.15</td>\n",
       "      <td>0.11</td>\n",
       "      <td>0.13</td>\n",
       "      <td>0.12</td>\n",
       "      <td>0.13</td>\n",
       "      <td>0.12</td>\n",
       "      <td>0.11</td>\n",
       "      <td>0.10</td>\n",
       "      <td>0.11</td>\n",
       "      <td>0.08</td>\n",
       "      <td>0.09</td>\n",
       "      <td>0.42</td>\n",
       "    </tr>\n",
       "    <tr>\n",
       "      <th>1</th>\n",
       "      <td>0.14</td>\n",
       "      <td>0.10</td>\n",
       "      <td>0.14</td>\n",
       "      <td>0.12</td>\n",
       "      <td>0.14</td>\n",
       "      <td>0.13</td>\n",
       "      <td>0.11</td>\n",
       "      <td>0.09</td>\n",
       "      <td>0.11</td>\n",
       "      <td>0.09</td>\n",
       "      <td>0.09</td>\n",
       "      <td>0.48</td>\n",
       "    </tr>\n",
       "  </tbody>\n",
       "</table>\n",
       "</div>"
      ],
      "text/plain": [
       "           food  other_vaccines  housing  rent  utilities  finances  \\\n",
       "is_female                                                             \n",
       "0          0.15            0.11     0.13  0.12       0.13      0.12   \n",
       "1          0.14            0.10     0.14  0.12       0.14      0.13   \n",
       "\n",
       "           transportation  loneliness  personal_safety  childcare  employment  \\\n",
       "is_female                                                                       \n",
       "0                    0.11        0.10             0.11       0.08        0.09   \n",
       "1                    0.11        0.09             0.11       0.09        0.09   \n",
       "\n",
       "           is_vaccinated  \n",
       "is_female                 \n",
       "0                   0.42  \n",
       "1                   0.48  "
      ]
     },
     "execution_count": 190,
     "metadata": {},
     "output_type": "execute_result"
    }
   ],
   "source": [
    "df.groupby('is_female').mean()[needs_vaccine].round(2)"
   ]
  },
  {
   "cell_type": "code",
   "execution_count": 191,
   "id": "fa3e1501-c0c9-4bde-a69b-b107679ee903",
   "metadata": {},
   "outputs": [
    {
     "data": {
      "text/html": [
       "<div>\n",
       "<style scoped>\n",
       "    .dataframe tbody tr th:only-of-type {\n",
       "        vertical-align: middle;\n",
       "    }\n",
       "\n",
       "    .dataframe tbody tr th {\n",
       "        vertical-align: top;\n",
       "    }\n",
       "\n",
       "    .dataframe thead th {\n",
       "        text-align: right;\n",
       "    }\n",
       "</style>\n",
       "<table border=\"1\" class=\"dataframe\">\n",
       "  <thead>\n",
       "    <tr style=\"text-align: right;\">\n",
       "      <th></th>\n",
       "      <th>food</th>\n",
       "      <th>other_vaccines</th>\n",
       "      <th>housing</th>\n",
       "      <th>rent</th>\n",
       "      <th>utilities</th>\n",
       "      <th>finances</th>\n",
       "      <th>transportation</th>\n",
       "      <th>loneliness</th>\n",
       "      <th>personal_safety</th>\n",
       "      <th>childcare</th>\n",
       "      <th>employment</th>\n",
       "      <th>is_vaccinated</th>\n",
       "    </tr>\n",
       "    <tr>\n",
       "      <th>is_male</th>\n",
       "      <th></th>\n",
       "      <th></th>\n",
       "      <th></th>\n",
       "      <th></th>\n",
       "      <th></th>\n",
       "      <th></th>\n",
       "      <th></th>\n",
       "      <th></th>\n",
       "      <th></th>\n",
       "      <th></th>\n",
       "      <th></th>\n",
       "      <th></th>\n",
       "    </tr>\n",
       "  </thead>\n",
       "  <tbody>\n",
       "    <tr>\n",
       "      <th>0</th>\n",
       "      <td>0.15</td>\n",
       "      <td>0.10</td>\n",
       "      <td>0.13</td>\n",
       "      <td>0.12</td>\n",
       "      <td>0.14</td>\n",
       "      <td>0.12</td>\n",
       "      <td>0.11</td>\n",
       "      <td>0.1</td>\n",
       "      <td>0.11</td>\n",
       "      <td>0.09</td>\n",
       "      <td>0.09</td>\n",
       "      <td>0.42</td>\n",
       "    </tr>\n",
       "    <tr>\n",
       "      <th>1</th>\n",
       "      <td>0.13</td>\n",
       "      <td>0.11</td>\n",
       "      <td>0.14</td>\n",
       "      <td>0.12</td>\n",
       "      <td>0.13</td>\n",
       "      <td>0.13</td>\n",
       "      <td>0.10</td>\n",
       "      <td>0.1</td>\n",
       "      <td>0.12</td>\n",
       "      <td>0.09</td>\n",
       "      <td>0.09</td>\n",
       "      <td>0.50</td>\n",
       "    </tr>\n",
       "  </tbody>\n",
       "</table>\n",
       "</div>"
      ],
      "text/plain": [
       "         food  other_vaccines  housing  rent  utilities  finances  \\\n",
       "is_male                                                             \n",
       "0        0.15            0.10     0.13  0.12       0.14      0.12   \n",
       "1        0.13            0.11     0.14  0.12       0.13      0.13   \n",
       "\n",
       "         transportation  loneliness  personal_safety  childcare  employment  \\\n",
       "is_male                                                                       \n",
       "0                  0.11         0.1             0.11       0.09        0.09   \n",
       "1                  0.10         0.1             0.12       0.09        0.09   \n",
       "\n",
       "         is_vaccinated  \n",
       "is_male                 \n",
       "0                 0.42  \n",
       "1                 0.50  "
      ]
     },
     "execution_count": 191,
     "metadata": {},
     "output_type": "execute_result"
    }
   ],
   "source": [
    "df.groupby(\"is_male\").mean()[needs_vaccine].round(2)"
   ]
  },
  {
   "cell_type": "code",
   "execution_count": 192,
   "id": "cc1afcaf-f3b2-40a5-b8bd-b860e903fd84",
   "metadata": {},
   "outputs": [
    {
     "data": {
      "text/html": [
       "<div>\n",
       "<style scoped>\n",
       "    .dataframe tbody tr th:only-of-type {\n",
       "        vertical-align: middle;\n",
       "    }\n",
       "\n",
       "    .dataframe tbody tr th {\n",
       "        vertical-align: top;\n",
       "    }\n",
       "\n",
       "    .dataframe thead th {\n",
       "        text-align: right;\n",
       "    }\n",
       "</style>\n",
       "<table border=\"1\" class=\"dataframe\">\n",
       "  <thead>\n",
       "    <tr style=\"text-align: right;\">\n",
       "      <th></th>\n",
       "      <th>food</th>\n",
       "      <th>other_vaccines</th>\n",
       "      <th>housing</th>\n",
       "      <th>rent</th>\n",
       "      <th>utilities</th>\n",
       "      <th>finances</th>\n",
       "      <th>transportation</th>\n",
       "      <th>loneliness</th>\n",
       "      <th>personal_safety</th>\n",
       "      <th>childcare</th>\n",
       "      <th>employment</th>\n",
       "      <th>is_vaccinated</th>\n",
       "    </tr>\n",
       "    <tr>\n",
       "      <th>is_nonbinary</th>\n",
       "      <th></th>\n",
       "      <th></th>\n",
       "      <th></th>\n",
       "      <th></th>\n",
       "      <th></th>\n",
       "      <th></th>\n",
       "      <th></th>\n",
       "      <th></th>\n",
       "      <th></th>\n",
       "      <th></th>\n",
       "      <th></th>\n",
       "      <th></th>\n",
       "    </tr>\n",
       "  </thead>\n",
       "  <tbody>\n",
       "    <tr>\n",
       "      <th>0</th>\n",
       "      <td>0.14</td>\n",
       "      <td>0.10</td>\n",
       "      <td>0.14</td>\n",
       "      <td>0.12</td>\n",
       "      <td>0.14</td>\n",
       "      <td>0.13</td>\n",
       "      <td>0.11</td>\n",
       "      <td>0.10</td>\n",
       "      <td>0.11</td>\n",
       "      <td>0.09</td>\n",
       "      <td>0.09</td>\n",
       "      <td>0.44</td>\n",
       "    </tr>\n",
       "    <tr>\n",
       "      <th>1</th>\n",
       "      <td>0.19</td>\n",
       "      <td>0.19</td>\n",
       "      <td>0.27</td>\n",
       "      <td>0.19</td>\n",
       "      <td>0.19</td>\n",
       "      <td>0.19</td>\n",
       "      <td>0.15</td>\n",
       "      <td>0.23</td>\n",
       "      <td>0.15</td>\n",
       "      <td>0.12</td>\n",
       "      <td>0.15</td>\n",
       "      <td>0.19</td>\n",
       "    </tr>\n",
       "  </tbody>\n",
       "</table>\n",
       "</div>"
      ],
      "text/plain": [
       "              food  other_vaccines  housing  rent  utilities  finances  \\\n",
       "is_nonbinary                                                             \n",
       "0             0.14            0.10     0.14  0.12       0.14      0.13   \n",
       "1             0.19            0.19     0.27  0.19       0.19      0.19   \n",
       "\n",
       "              transportation  loneliness  personal_safety  childcare  \\\n",
       "is_nonbinary                                                           \n",
       "0                       0.11        0.10             0.11       0.09   \n",
       "1                       0.15        0.23             0.15       0.12   \n",
       "\n",
       "              employment  is_vaccinated  \n",
       "is_nonbinary                             \n",
       "0                   0.09           0.44  \n",
       "1                   0.15           0.19  "
      ]
     },
     "execution_count": 192,
     "metadata": {},
     "output_type": "execute_result"
    }
   ],
   "source": [
    "df.groupby(\"is_nonbinary\").mean()[needs_vaccine].round(2)"
   ]
  },
  {
   "cell_type": "code",
   "execution_count": 193,
   "id": "c6fe6e80-0eb7-4f3f-af9a-662415fba47c",
   "metadata": {},
   "outputs": [
    {
     "data": {
      "text/html": [
       "<div>\n",
       "<style scoped>\n",
       "    .dataframe tbody tr th:only-of-type {\n",
       "        vertical-align: middle;\n",
       "    }\n",
       "\n",
       "    .dataframe tbody tr th {\n",
       "        vertical-align: top;\n",
       "    }\n",
       "\n",
       "    .dataframe thead th {\n",
       "        text-align: right;\n",
       "    }\n",
       "</style>\n",
       "<table border=\"1\" class=\"dataframe\">\n",
       "  <thead>\n",
       "    <tr style=\"text-align: right;\">\n",
       "      <th></th>\n",
       "      <th>food</th>\n",
       "      <th>other_vaccines</th>\n",
       "      <th>housing</th>\n",
       "      <th>rent</th>\n",
       "      <th>utilities</th>\n",
       "      <th>finances</th>\n",
       "      <th>transportation</th>\n",
       "      <th>loneliness</th>\n",
       "      <th>personal_safety</th>\n",
       "      <th>childcare</th>\n",
       "      <th>employment</th>\n",
       "      <th>is_vaccinated</th>\n",
       "    </tr>\n",
       "    <tr>\n",
       "      <th>is_transgender</th>\n",
       "      <th></th>\n",
       "      <th></th>\n",
       "      <th></th>\n",
       "      <th></th>\n",
       "      <th></th>\n",
       "      <th></th>\n",
       "      <th></th>\n",
       "      <th></th>\n",
       "      <th></th>\n",
       "      <th></th>\n",
       "      <th></th>\n",
       "      <th></th>\n",
       "    </tr>\n",
       "  </thead>\n",
       "  <tbody>\n",
       "    <tr>\n",
       "      <th>0</th>\n",
       "      <td>0.14</td>\n",
       "      <td>0.10</td>\n",
       "      <td>0.14</td>\n",
       "      <td>0.12</td>\n",
       "      <td>0.14</td>\n",
       "      <td>0.13</td>\n",
       "      <td>0.11</td>\n",
       "      <td>0.10</td>\n",
       "      <td>0.11</td>\n",
       "      <td>0.09</td>\n",
       "      <td>0.09</td>\n",
       "      <td>0.44</td>\n",
       "    </tr>\n",
       "    <tr>\n",
       "      <th>1</th>\n",
       "      <td>0.09</td>\n",
       "      <td>0.04</td>\n",
       "      <td>0.24</td>\n",
       "      <td>0.05</td>\n",
       "      <td>0.05</td>\n",
       "      <td>0.06</td>\n",
       "      <td>0.05</td>\n",
       "      <td>0.05</td>\n",
       "      <td>0.07</td>\n",
       "      <td>0.04</td>\n",
       "      <td>0.04</td>\n",
       "      <td>0.72</td>\n",
       "    </tr>\n",
       "  </tbody>\n",
       "</table>\n",
       "</div>"
      ],
      "text/plain": [
       "                food  other_vaccines  housing  rent  utilities  finances  \\\n",
       "is_transgender                                                             \n",
       "0               0.14            0.10     0.14  0.12       0.14      0.13   \n",
       "1               0.09            0.04     0.24  0.05       0.05      0.06   \n",
       "\n",
       "                transportation  loneliness  personal_safety  childcare  \\\n",
       "is_transgender                                                           \n",
       "0                         0.11        0.10             0.11       0.09   \n",
       "1                         0.05        0.05             0.07       0.04   \n",
       "\n",
       "                employment  is_vaccinated  \n",
       "is_transgender                             \n",
       "0                     0.09           0.44  \n",
       "1                     0.04           0.72  "
      ]
     },
     "execution_count": 193,
     "metadata": {},
     "output_type": "execute_result"
    }
   ],
   "source": [
    "df.groupby(\"is_transgender\").mean()[needs_vaccine].round(2)"
   ]
  },
  {
   "cell_type": "code",
   "execution_count": 194,
   "id": "3807caee-9866-4a2a-b471-f77cb7013f5f",
   "metadata": {},
   "outputs": [
    {
     "data": {
      "text/html": [
       "<div>\n",
       "<style scoped>\n",
       "    .dataframe tbody tr th:only-of-type {\n",
       "        vertical-align: middle;\n",
       "    }\n",
       "\n",
       "    .dataframe tbody tr th {\n",
       "        vertical-align: top;\n",
       "    }\n",
       "\n",
       "    .dataframe thead th {\n",
       "        text-align: right;\n",
       "    }\n",
       "</style>\n",
       "<table border=\"1\" class=\"dataframe\">\n",
       "  <thead>\n",
       "    <tr style=\"text-align: right;\">\n",
       "      <th></th>\n",
       "      <th>food</th>\n",
       "      <th>other_vaccines</th>\n",
       "      <th>housing</th>\n",
       "      <th>rent</th>\n",
       "      <th>utilities</th>\n",
       "      <th>finances</th>\n",
       "      <th>transportation</th>\n",
       "      <th>loneliness</th>\n",
       "      <th>personal_safety</th>\n",
       "      <th>childcare</th>\n",
       "      <th>employment</th>\n",
       "      <th>is_vaccinated</th>\n",
       "    </tr>\n",
       "    <tr>\n",
       "      <th>is_genderqueer</th>\n",
       "      <th></th>\n",
       "      <th></th>\n",
       "      <th></th>\n",
       "      <th></th>\n",
       "      <th></th>\n",
       "      <th></th>\n",
       "      <th></th>\n",
       "      <th></th>\n",
       "      <th></th>\n",
       "      <th></th>\n",
       "      <th></th>\n",
       "      <th></th>\n",
       "    </tr>\n",
       "  </thead>\n",
       "  <tbody>\n",
       "    <tr>\n",
       "      <th>0</th>\n",
       "      <td>0.14</td>\n",
       "      <td>0.10</td>\n",
       "      <td>0.14</td>\n",
       "      <td>0.12</td>\n",
       "      <td>0.14</td>\n",
       "      <td>0.13</td>\n",
       "      <td>0.11</td>\n",
       "      <td>0.1</td>\n",
       "      <td>0.11</td>\n",
       "      <td>0.09</td>\n",
       "      <td>0.09</td>\n",
       "      <td>0.44</td>\n",
       "    </tr>\n",
       "    <tr>\n",
       "      <th>1</th>\n",
       "      <td>0.25</td>\n",
       "      <td>0.25</td>\n",
       "      <td>0.30</td>\n",
       "      <td>0.25</td>\n",
       "      <td>0.25</td>\n",
       "      <td>0.25</td>\n",
       "      <td>0.20</td>\n",
       "      <td>0.3</td>\n",
       "      <td>0.20</td>\n",
       "      <td>0.15</td>\n",
       "      <td>0.20</td>\n",
       "      <td>0.05</td>\n",
       "    </tr>\n",
       "  </tbody>\n",
       "</table>\n",
       "</div>"
      ],
      "text/plain": [
       "                food  other_vaccines  housing  rent  utilities  finances  \\\n",
       "is_genderqueer                                                             \n",
       "0               0.14            0.10     0.14  0.12       0.14      0.13   \n",
       "1               0.25            0.25     0.30  0.25       0.25      0.25   \n",
       "\n",
       "                transportation  loneliness  personal_safety  childcare  \\\n",
       "is_genderqueer                                                           \n",
       "0                         0.11         0.1             0.11       0.09   \n",
       "1                         0.20         0.3             0.20       0.15   \n",
       "\n",
       "                employment  is_vaccinated  \n",
       "is_genderqueer                             \n",
       "0                     0.09           0.44  \n",
       "1                     0.20           0.05  "
      ]
     },
     "execution_count": 194,
     "metadata": {},
     "output_type": "execute_result"
    }
   ],
   "source": [
    "df.groupby(\"is_genderqueer\").mean()[needs_vaccine].round(2)"
   ]
  },
  {
   "cell_type": "markdown",
   "id": "a33acfc8-3150-4ec6-b1d9-6bf0f60ac3d6",
   "metadata": {},
   "source": [
    "Overall when we look at the average of the needs for those of different gender, we see there are no stark differences. However, it seems that those who identify as non-binary, and genderqueer have highten needs for housing, rent, transpotation, loneliness, personal safety, and employment compared to those who identified as male or female. "
   ]
  },
  {
   "cell_type": "markdown",
   "id": "994b7f57-33b5-4076-b30f-c1bf618b2d39",
   "metadata": {},
   "source": [
    "### Did the rate of Vaccination change between 2021 and 2022?"
   ]
  },
  {
   "cell_type": "code",
   "execution_count": 195,
   "id": "4c7be04a-7f9d-44e1-bd1f-8393b9289077",
   "metadata": {},
   "outputs": [
    {
     "data": {
      "text/html": [
       "<div>\n",
       "<style scoped>\n",
       "    .dataframe tbody tr th:only-of-type {\n",
       "        vertical-align: middle;\n",
       "    }\n",
       "\n",
       "    .dataframe tbody tr th {\n",
       "        vertical-align: top;\n",
       "    }\n",
       "\n",
       "    .dataframe thead th {\n",
       "        text-align: right;\n",
       "    }\n",
       "</style>\n",
       "<table border=\"1\" class=\"dataframe\">\n",
       "  <thead>\n",
       "    <tr style=\"text-align: right;\">\n",
       "      <th></th>\n",
       "      <th>is_vaccinated</th>\n",
       "    </tr>\n",
       "    <tr>\n",
       "      <th>year</th>\n",
       "      <th></th>\n",
       "    </tr>\n",
       "  </thead>\n",
       "  <tbody>\n",
       "    <tr>\n",
       "      <th>2021</th>\n",
       "      <td>0.540472</td>\n",
       "    </tr>\n",
       "    <tr>\n",
       "      <th>2022</th>\n",
       "      <td>0.258881</td>\n",
       "    </tr>\n",
       "  </tbody>\n",
       "</table>\n",
       "</div>"
      ],
      "text/plain": [
       "      is_vaccinated\n",
       "year               \n",
       "2021       0.540472\n",
       "2022       0.258881"
      ]
     },
     "execution_count": 195,
     "metadata": {},
     "output_type": "execute_result"
    }
   ],
   "source": [
    "df.groupby('year').mean()[['is_vaccinated']]"
   ]
  },
  {
   "cell_type": "markdown",
   "id": "169c7a49-c847-4938-a83c-ab28595d525c",
   "metadata": {},
   "source": [
    "I am surprised that in 2021 clients had a higher rate of vaccination than in 2022, it would be interesting to explore this further"
   ]
  },
  {
   "cell_type": "markdown",
   "id": "cb666090-5ff0-4955-8908-90d7f2f3e879",
   "metadata": {},
   "source": [
    "### Let's look at other important information that was capture by the organization as it relates to vaccination"
   ]
  },
  {
   "cell_type": "code",
   "execution_count": 196,
   "id": "7a969ebe-8cc2-4497-b311-eefdc148de40",
   "metadata": {
    "tags": []
   },
   "outputs": [
    {
     "data": {
      "text/plain": [
       "107"
      ]
     },
     "execution_count": 196,
     "metadata": {},
     "output_type": "execute_result"
    }
   ],
   "source": [
    "difference_makers = df['difference_makers'].unique().tolist()\n",
    "len(difference_makers)"
   ]
  },
  {
   "cell_type": "code",
   "execution_count": 197,
   "id": "61dc6e91-5132-4c49-acfb-460d53028431",
   "metadata": {},
   "outputs": [
    {
     "data": {
      "text/plain": [
       "20552"
      ]
     },
     "execution_count": 197,
     "metadata": {},
     "output_type": "execute_result"
    }
   ],
   "source": [
    "df['difference_makers'].isnull().sum()"
   ]
  },
  {
   "cell_type": "markdown",
   "id": "8c4ec19f-78a6-4b58-9276-023fb8901493",
   "metadata": {},
   "source": [
    "The overwhelming number of respondents did not indicate a difference maker, so this may not be the best column to explore. "
   ]
  },
  {
   "cell_type": "code",
   "execution_count": 198,
   "id": "be100134-5b06-46c5-a55a-beceee94ade2",
   "metadata": {},
   "outputs": [
    {
     "data": {
      "text/plain": [
       "957"
      ]
     },
     "execution_count": 198,
     "metadata": {},
     "output_type": "execute_result"
    }
   ],
   "source": [
    "df['hesitancy_reasons'].notnull().sum()"
   ]
  },
  {
   "cell_type": "markdown",
   "id": "3d3e6c34-ada1-4812-9b53-ae9c2f96762a",
   "metadata": {},
   "source": [
    "While many did not respond to the hesistancy question, significantly more people responded to this question than the difference maker"
   ]
  },
  {
   "cell_type": "code",
   "execution_count": 199,
   "id": "e17f17a8-d725-4f41-9703-3a4dbf1405f2",
   "metadata": {},
   "outputs": [
    {
     "data": {
      "text/plain": [
       "182"
      ]
     },
     "execution_count": 199,
     "metadata": {},
     "output_type": "execute_result"
    }
   ],
   "source": [
    "hesitancy = df['hesitancy_reasons'].unique().tolist()\n",
    "len(hesitancy)"
   ]
  },
  {
   "cell_type": "markdown",
   "id": "d11bd216-e514-41f5-a21d-35d43e9bdaae",
   "metadata": {},
   "source": [
    "There were 182 unique responses to hesistency"
   ]
  },
  {
   "cell_type": "markdown",
   "id": "c489869b-5bd0-4882-85a7-0bd756af3950",
   "metadata": {},
   "source": [
    "### Exploratory NLP on vaccine hesistancy"
   ]
  },
  {
   "cell_type": "code",
   "execution_count": 200,
   "id": "787dcccf-e5ce-4b88-b283-7af429038117",
   "metadata": {},
   "outputs": [],
   "source": [
    "hesistancy_df = df[['hesitancy_reasons']].copy(deep=True)"
   ]
  },
  {
   "cell_type": "code",
   "execution_count": 201,
   "id": "192e16e2-d415-4247-b45f-39d54bb84c91",
   "metadata": {},
   "outputs": [],
   "source": [
    "hesistancy_df.dropna(inplace=True)"
   ]
  },
  {
   "cell_type": "code",
   "execution_count": 202,
   "id": "7434ae7c-00b6-49a1-a656-7cbb2750bc2e",
   "metadata": {},
   "outputs": [
    {
     "data": {
      "text/plain": [
       "(957, 1)"
      ]
     },
     "execution_count": 202,
     "metadata": {},
     "output_type": "execute_result"
    }
   ],
   "source": [
    "hesistancy_df.shape"
   ]
  },
  {
   "cell_type": "code",
   "execution_count": 203,
   "id": "96640a31-d656-498b-a41c-b6f42642b5a2",
   "metadata": {},
   "outputs": [],
   "source": [
    "hesistancy_text = hesistancy_df['hesitancy_reasons']"
   ]
  },
  {
   "cell_type": "code",
   "execution_count": 204,
   "id": "0ef391ee-b87c-4fb8-ae29-6d903a4deb78",
   "metadata": {},
   "outputs": [],
   "source": [
    "import plotly\n",
    "import plotly.express as px\n",
    "from sklearn.feature_extraction.text import CountVectorizer"
   ]
  },
  {
   "cell_type": "code",
   "execution_count": 205,
   "id": "d28f4341-5a21-42e3-a1ca-79c84f3fd9be",
   "metadata": {},
   "outputs": [
    {
     "data": {
      "text/plain": [
       "CountVectorizer(max_df=0.9, min_df=2, stop_words='english')"
      ]
     },
     "execution_count": 205,
     "metadata": {},
     "output_type": "execute_result"
    }
   ],
   "source": [
    "cv = CountVectorizer(stop_words='english', max_df=.90, min_df=2)\n",
    "cv.fit(hesistancy_text)"
   ]
  },
  {
   "cell_type": "code",
   "execution_count": 206,
   "id": "17702f16-0de9-467a-b66a-4dd3f4b9968d",
   "metadata": {},
   "outputs": [],
   "source": [
    "text_cv = cv.transform(hesistancy_text)"
   ]
  },
  {
   "cell_type": "code",
   "execution_count": 207,
   "id": "0ddd6f00-7b3c-4455-88e1-c266046deaa3",
   "metadata": {},
   "outputs": [
    {
     "data": {
      "text/plain": [
       "(957, 66)"
      ]
     },
     "execution_count": 207,
     "metadata": {},
     "output_type": "execute_result"
    }
   ],
   "source": [
    "text_cv.shape"
   ]
  },
  {
   "cell_type": "code",
   "execution_count": 208,
   "id": "f9815fbd-e586-4699-867b-ca7758e2bf01",
   "metadata": {},
   "outputs": [],
   "source": [
    "text_df = pd.DataFrame(text_cv.A, columns=cv.get_feature_names_out())"
   ]
  },
  {
   "cell_type": "code",
   "execution_count": 209,
   "id": "56f1462e-d6ec-4179-bae1-4e0e2bf53c6d",
   "metadata": {},
   "outputs": [
    {
     "data": {
      "text/plain": [
       "vaccine     1182\n",
       "covid        537\n",
       "19           536\n",
       "didn         395\n",
       "did          361\n",
       "hesitate     341\n",
       "making       341\n",
       "concerns     341\n",
       "don          248\n",
       "learned      244\n",
       "dtype: int64"
      ]
     },
     "execution_count": 209,
     "metadata": {},
     "output_type": "execute_result"
    }
   ],
   "source": [
    "text_df.sum().sort_values(ascending=False).head(10)"
   ]
  },
  {
   "cell_type": "markdown",
   "id": "741cef48-40ac-49e3-b6f2-2f882694a7fb",
   "metadata": {},
   "source": [
    "Because we know that we are looking for the most common words that describe people's hesistancy to get the covid-19 vaccine, we can drop the words vaccine, covid, and 19"
   ]
  },
  {
   "cell_type": "code",
   "execution_count": 210,
   "id": "45158649-eca5-4a82-9e66-8641fd299588",
   "metadata": {},
   "outputs": [],
   "source": [
    "text_df.drop(columns=['vaccine', 'covid', '19'], inplace=True)"
   ]
  },
  {
   "cell_type": "code",
   "execution_count": 211,
   "id": "38dcfac4-0905-4980-ace2-1b8504c07277",
   "metadata": {
    "tags": []
   },
   "outputs": [
    {
     "data": {
      "text/plain": [
       "didn           395\n",
       "did            361\n",
       "concerns       341\n",
       "making         341\n",
       "hesitate       341\n",
       "don            248\n",
       "information    244\n",
       "learned        244\n",
       "really         235\n",
       "vaccines       226\n",
       "site           225\n",
       "effects        217\n",
       "concerned      216\n",
       "potential      216\n",
       "scared         176\n",
       "dtype: int64"
      ]
     },
     "execution_count": 211,
     "metadata": {},
     "output_type": "execute_result"
    }
   ],
   "source": [
    "text_df.sum().sort_values(ascending=False).head(15)"
   ]
  },
  {
   "cell_type": "markdown",
   "id": "ea95419a-0bb2-4705-9f57-4e14aa85d450",
   "metadata": {},
   "source": [
    "### Most common words used to describe vaccine hesitancy (and least common words)"
   ]
  },
  {
   "cell_type": "code",
   "execution_count": 212,
   "id": "62a47480-0be3-4305-86ce-f5d923c2e659",
   "metadata": {},
   "outputs": [
    {
     "data": {
      "image/png": "[encoded data removed]",
      "text/plain": [
       "<Figure size 720x504 with 1 Axes>"
      ]
     },
     "metadata": {
      "needs_background": "light"
     },
     "output_type": "display_data"
    }
   ],
   "source": [
    "plt.figure(figsize=(10, 7))\n",
    "text_df.sum().sort_values(ascending=False).head(15).plot(kind='barh')\n",
    "plt.xticks(fontsize=12)\n",
    "plt.yticks(fontsize=12)\n",
    "plt.title('The 15 most common words used to describe vaccine hesitancy', fontsize=14);"
   ]
  },
  {
   "cell_type": "markdown",
   "id": "0411a276-9aa3-401f-8e70-7bfdd773c80d",
   "metadata": {},
   "source": [
    "We can see that among the top words that described individuals hesistance to vaccination were concerns, information, learned, effects, site, potential, and scared"
   ]
  },
  {
   "cell_type": "code",
   "execution_count": 213,
   "id": "b129aad1-96c0-451f-bd4d-397919153f6c",
   "metadata": {
    "tags": []
   },
   "outputs": [
    {
     "data": {
      "text/plain": [
       "general        65\n",
       "commitments    59\n",
       "child          59\n",
       "needed         57\n",
       "virus          53\n",
       "job            52\n",
       "work           51\n",
       "kids           47\n",
       "risk           46\n",
       "high           46\n",
       "busy           46\n",
       "coronavirus    46\n",
       "free           40\n",
       "cost           40\n",
       "hesitant       37\n",
       "booster        14\n",
       "vaccinated      3\n",
       "dose            2\n",
       "needle          2\n",
       "religion        2\n",
       "dtype: int64"
      ]
     },
     "execution_count": 213,
     "metadata": {},
     "output_type": "execute_result"
    }
   ],
   "source": [
    "text_df.sum().sort_values(ascending=False).tail(20)"
   ]
  },
  {
   "cell_type": "code",
   "execution_count": 214,
   "id": "1046aa4e-1659-4fe4-ad09-977d855d457b",
   "metadata": {},
   "outputs": [
    {
     "data": {
      "image/png": "[encoded data removed]",
      "text/plain": [
       "<Figure size 720x504 with 1 Axes>"
      ]
     },
     "metadata": {
      "needs_background": "light"
     },
     "output_type": "display_data"
    }
   ],
   "source": [
    "plt.figure(figsize=(10, 7))\n",
    "text_df.sum().sort_values(ascending=False).tail(15).plot(kind='barh')\n",
    "plt.xticks(fontsize=12)\n",
    "plt.yticks(fontsize=12)\n",
    "plt.title('The 15 least common words used to describe vaccine hesitancy', fontsize=14);"
   ]
  },
  {
   "cell_type": "markdown",
   "id": "76d7427f-e64a-4f70-b63f-88f0cc83759c",
   "metadata": {},
   "source": [
    "Among the least common words that were used to describe hesitancy was job, work, risk, free, cost, dose, needs, and religion"
   ]
  },
  {
   "cell_type": "markdown",
   "id": "97a7c940-ec67-492a-bc9a-367c83768bbf",
   "metadata": {},
   "source": [
    "### Identified areas for future cleaning of the data:\n",
    "\n",
    "With the limited time that I have to work on this dataset, I was not able to do all the cleaning necessary to begin doing other modeling work. As many say, over 80% of data science is cleaning and preparing the data. \n",
    "\n",
    "I noticed that there is a lot more cleaning to be done on several columns, I would very much like to work on the race column, as well as age, which not only has intergers but also dates. \n",
    "\n",
    "It would also be great to do further work with this data after getting further information about where the data came from, and what are Dawn Chorus Group's priority. \n",
    "\n",
    "If I get the opportunity to work with this data again, I would enjoy doing some modeling work. "
   ]
  },
  {
   "cell_type": "markdown",
   "id": "efae9bfa-ef0f-4157-a8fc-3fe2d4bf978a",
   "metadata": {},
   "source": [
    "## Modeling"
   ]
  },
  {
   "cell_type": "code",
   "execution_count": 234,
   "id": "afd28256-0cbf-4167-a7cb-4113db821886",
   "metadata": {},
   "outputs": [],
   "source": [
    "from sklearn.model_selection import train_test_split, cross_val_score, GridSearchCV, cross_validate\n",
    "\n",
    "from sklearn.preprocessing import StandardScaler\n",
    "from sklearn.impute import SimpleImputer, KNNImputer\n",
    "\n",
    "from sklearn.metrics import (confusion_matrix, ConfusionMatrixDisplay, recall_score,\n",
    "accuracy_score, plot_roc_curve, roc_auc_score, recall_score,\n",
    "precision_score, f1_score, classification_report, RocCurveDisplay)\n",
    "\n",
    "from sklearn.linear_model import LogisticRegression\n",
    "from sklearn.neighbors import KNeighborsClassifier\n",
    "from sklearn.ensemble import AdaBoostClassifier\n",
    "from sklearn.tree import DecisionTreeClassifier\n",
    "from sklearn.ensemble import RandomForestClassifier, BaggingClassifier"
   ]
  },
  {
   "cell_type": "markdown",
   "id": "7373f729-ab2a-4370-8763-ab14a3f4d626",
   "metadata": {},
   "source": [
    "#### Modeling \n",
    "\n",
    "While many features require additional cleaning before we can model with them, we do have a few avialable. Because we have a column to indicate whether someone is vaccinated, and we also have clean futures that indicate whether a need was identified, we can easily model the effects of a need being identified and it's effect on whether someone is vaccinated."
   ]
  },
  {
   "cell_type": "code",
   "execution_count": 240,
   "id": "397ce78e-8d2c-459b-accc-912e9a9efe7f",
   "metadata": {},
   "outputs": [],
   "source": [
    "X = df[needs]\n",
    "y = df['is_vaccinated']\n",
    "\n",
    "X_train, X_test, y_train, y_test = train_test_split(X, y, random_state=42)"
   ]
  },
  {
   "cell_type": "code",
   "execution_count": 241,
   "id": "d70ab569-0551-4d86-bea4-ecfdc70be6c0",
   "metadata": {},
   "outputs": [
    {
     "data": {
      "text/plain": [
       "LogisticRegression()"
      ]
     },
     "execution_count": 241,
     "metadata": {},
     "output_type": "execute_result"
    }
   ],
   "source": [
    "lr = LogisticRegression()\n",
    "lr.fit(X_train, y_train)"
   ]
  },
  {
   "cell_type": "code",
   "execution_count": 242,
   "id": "e063698e-a99f-48a3-af2d-c3a8c850bf4d",
   "metadata": {},
   "outputs": [
    {
     "data": {
      "text/plain": [
       "0.5913354175971416"
      ]
     },
     "execution_count": 242,
     "metadata": {},
     "output_type": "execute_result"
    }
   ],
   "source": [
    "lr.score(X_train, y_train)"
   ]
  },
  {
   "cell_type": "code",
   "execution_count": 243,
   "id": "0e2bbb4f-9e2a-4115-b506-96a30282c35a",
   "metadata": {},
   "outputs": [
    {
     "data": {
      "text/plain": [
       "0.5858373205741627"
      ]
     },
     "execution_count": 243,
     "metadata": {},
     "output_type": "execute_result"
    }
   ],
   "source": [
    "lr.score(X_test, y_test)"
   ]
  },
  {
   "cell_type": "markdown",
   "id": "3dcce3a1-3933-4d71-8a41-033d654aa965",
   "metadata": {},
   "source": [
    "About 58% of the variation in vaccination can be explained by the model based on someone's needs"
   ]
  },
  {
   "cell_type": "markdown",
   "id": "6acd02ba-84f1-48a3-a4a4-c87904bd679d",
   "metadata": {},
   "source": [
    "#### Calculate the odd rations for each variable"
   ]
  },
  {
   "cell_type": "code",
   "execution_count": 269,
   "id": "e5ce3199-9f31-4d34-a3b7-9656e1f4ff64",
   "metadata": {},
   "outputs": [
    {
     "data": {
      "text/plain": [
       "[('food', 0.4581241465901734),\n",
       " ('other_vaccines', 0.3964373397674211),\n",
       " ('housing', 1.7207275861911948),\n",
       " ('rent', 0.6508260098563532),\n",
       " ('utilities', 0.443839256612498),\n",
       " ('finances', 0.8091882016622088),\n",
       " ('transportation', 0.6651890663090702),\n",
       " ('loneliness', 0.6197879400937659),\n",
       " ('personal_safety', 1.2182524691419745),\n",
       " ('childcare', 0.7635391588137883),\n",
       " ('employment', 0.36890403680333517)]"
      ]
     },
     "execution_count": 269,
     "metadata": {},
     "output_type": "execute_result"
    }
   ],
   "source": [
    "list(zip(X.columns, np.exp(lr.coef_[0])))"
   ]
  },
  {
   "cell_type": "code",
   "execution_count": 271,
   "id": "2b14033e-dd05-4203-be64-cd038c62f39f",
   "metadata": {},
   "outputs": [
    {
     "data": {
      "text/plain": [
       "[('food', -0.5418758534098266),\n",
       " ('other_vaccines', -0.6035626602325789),\n",
       " ('housing', 0.7207275861911948),\n",
       " ('rent', -0.3491739901436468),\n",
       " ('utilities', -0.556160743387502),\n",
       " ('finances', -0.19081179833779116),\n",
       " ('transportation', -0.33481093369092985),\n",
       " ('loneliness', -0.3802120599062341),\n",
       " ('personal_safety', 0.2182524691419745),\n",
       " ('childcare', -0.2364608411862117),\n",
       " ('employment', -0.6310959631966648)]"
      ]
     },
     "execution_count": 271,
     "metadata": {},
     "output_type": "execute_result"
    }
   ],
   "source": [
    "list(zip(X.columns, np.exp(lr.coef_[0])-1))"
   ]
  },
  {
   "cell_type": "markdown",
   "id": "9f174527-538d-4db1-9a20-021284226146",
   "metadata": {},
   "source": [
    "#### Coefficients:\n",
    "\n",
    "Notice that many of the coefficients have a log ratio less than 1, meaning that for individuals who were identified as having that need, they were less likely to be vaccinated. \n",
    "\n",
    "- Food: those who were identified as having a food needs were about 54% less likely to be vaccinated\n",
    "- Other Vaccines: those who were identified as having needs for other vaccines were 60% less likely to be vaccinated\n",
    "- Rent: those who have housing needs were 35% less likely to be vaccinated\n",
    "- Utilities: those who identified a utilities need were 56% less likely to be vaccinated\n",
    "- Finances: those with a financial need were 19% less likely to be vaccinated\n",
    "- Transportation: those with a need in transportation were 33% less likely to be vaccinated \n",
    "- Loneliness: Those who identified a need in loneliness were 38% less likely to be vaccinated\n",
    "- Childcare: those who identified a need for childcare were 23% less likely to be vaccinated \n",
    "- Employment: those who identified as having a need for employment were 63% less likely to be vaccinated\n",
    "\n"
   ]
  },
  {
   "cell_type": "code",
   "execution_count": 276,
   "id": "569b2ccf-b5c8-4796-bccb-faef96b0a2f4",
   "metadata": {},
   "outputs": [],
   "source": [
    "df.to_csv('./Data/hrsaplus.csv', index=False)"
   ]
  },
  {
   "cell_type": "code",
   "execution_count": null,
   "id": "55c02f26-e0ea-4989-a98f-5d18489aaaeb",
   "metadata": {},
   "outputs": [],
   "source": []
  }
 ],
 "metadata": {
  "kernelspec": {
   "display_name": "Python 3 (ipykernel)",
   "language": "python",
   "name": "python3"
  },
  "language_info": {
   "codemirror_mode": {
    "name": "ipython",
    "version": 3
   },
   "file_extension": ".py",
   "mimetype": "text/x-python",
   "name": "python",
   "nbconvert_exporter": "python",
   "pygments_lexer": "ipython3",
   "version": "3.9.7"
  }
 },
 "nbformat": 4,
 "nbformat_minor": 5
}
